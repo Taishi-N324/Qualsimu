{
 "cells": [
  {
   "cell_type": "markdown",
   "metadata": {},
   "source": [
    "# 量子情報の基礎\n",
    "\n",
    "ここからは第三章で量子ダイナミクスシミュレーションを説明するために量子を情報として表現する方法を学んでいきます．本教材では量子ビットに関してのみしか取り扱いませんが量子ダイナミクスシミュレーション以外の量子アルゴリズムなどに関して取り扱っている教材としては\n",
    "[Quantum Native Dojo](https://dojo.qulacs.org/ja/latest/)や[IBM Quantum Learning](https://learning.quantum.ibm.com/)などがあります．<br>\n",
    "また，将来的には我々はGroverやShorのアルゴリズムなどに関してアニメーションを豊富にしたセクションを作成する予定です．\n",
    "\n",
    "## 目次\n",
    "```{toctree}\n",
    ":maxdepth: 1\n",
    "classical\n",
    "basics_quantum_1\n",
    "basics_quantum_2\n",
    "quantum_circuit\n",
    "```\n",
    "## 参考文献\n",
    "- 石坂智 [ほか] 著「量子情報科学入門」共立出版, 東京, Japan, 2012.6\n",
    "- ヨゼフ・グルスカ原著 ; 伊藤正美 [ほか] 共訳「量子コンピューティング」森北出版, 東京, Japan, 2003.11\n",
    "- [John Watrous  \"Quantum Computation\"](https://johnwatrous.com/lecture-notes/)\n",
    "- [Quantum Native Dojo](https://dojo.qulacs.org/ja/latest/index.html)"
   ]
  }
 ],
 "metadata": {
  "language_info": {
   "name": "python"
  }
 },
 "nbformat": 4,
 "nbformat_minor": 2
}
