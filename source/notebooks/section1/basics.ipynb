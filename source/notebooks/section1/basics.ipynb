{
 "cells": [
  {
   "cell_type": "markdown",
   "metadata": {},
   "source": [
    "# 量子コンピュータってどんなもの？"
   ]
  },
  {
   "cell_type": "markdown",
   "metadata": {},
   "source": [
    "## 量子コンピュータの現在\n",
    "ここ数年で「量子コンピュータ」という単語がしばしばニュースなどで話題にあがるようになりました．また，理化学研究所が国産超伝導量子コンピュータ初号機「叡」を発表し話題を呼びました．\n",
    "```{figure} ../../images/20231005_1_photo1.jpg\n",
    ":width: 500px\n",
    ":align: center\n",
    "\n",
    "超伝導量子コンピュータ「叡」の写真．[理化学研究所ホームページ](https://www.riken.jp/pr/news/2023/20231005_1/index.html)より引用\n",
    "```\n",
    "\n",
    "また，IBMなどの大企業がすでに実用可能な量子コンピュータを作成しすでに商業化しており，すでに教育や研究目的での量子コンピュータの使用が進められています．また，(2024年時点では)料金を払わずとも，インターネットを介して量子コンピュータの実機を使用することもできます．\n",
    "数百個以下の量子ビット数で，エラーを自らで訂正する力をもってない2023年現在の量子コンピュータを総称してNISQ(Noisy Intermediate-Scale Quantum)デバイスと呼びます．NISQでは実際に通信技術や暗号技術に使用されるにはまだノイズが大きく，量子コンピュータができることは多くありません．このため，実際に日常生活で使用されるためには，エラーを訂正できる能力を持つ量子コンピュータであるFTQC(Fault-Tolerant Quantum Computer)が必要であり，今現在，ソフトウェアとハードウェア両方の側面から研究が行われております．\n",
    "\n",
    "他にも国内外で様々な大手企業やベンチャーが参入し「速くて，ノイズが少なく，多くの計算ができる量子コンピュータを作れるか」を競っており，我々の生活の一部に使えるような性能の量子コンピュータが実現する日もそう遠くはないでしょう．そういった意味でも本教材を通して量子コンピュータの考え方，仕組み，応用が学ぶことは多いに価値があると期待します．\n",
    "\n",
    "## 量子コンピュータとは？\n",
    "量子コンピュータとは量子力学の性質を積極的に利用して計算しているコンピュータのことをいいます．量子力学の性質については次のセクションで述べますのでしばらくお待ちください．現在のコンピュータではすべての処理は0と1で行われているのですが，量子コンピュータではこの基礎となっている0,1を表現する部分で量子力学の性質を利用しているのです．現在のコンピュータで使われている情報の最小単位は0と1のビットと呼ばれていますが，量子コンピュータ上ではこれらは量子ビットと呼ばれています．\n",
    "```{image} ../../images/comparison.png\n",
    ":width: 500px\n",
    ":align: center\n",
    "```"
   ]
  }
 ],
 "metadata": {
  "kernelspec": {
   "display_name": "Python 3 (ipykernel)",
   "language": "python",
   "name": "python3"
  },
  "language_info": {
   "codemirror_mode": {
    "name": "ipython",
    "version": 3
   },
   "file_extension": ".py",
   "mimetype": "text/x-python",
   "name": "python",
   "nbconvert_exporter": "python",
   "pygments_lexer": "ipython3",
   "version": "3.10.8"
  },
  "varInspector": {
   "cols": {
    "lenName": 16,
    "lenType": 16,
    "lenVar": 40
   },
   "kernels_config": {
    "python": {
     "delete_cmd_postfix": "",
     "delete_cmd_prefix": "del ",
     "library": "var_list.py",
     "varRefreshCmd": "print(var_dic_list())"
    },
    "r": {
     "delete_cmd_postfix": ") ",
     "delete_cmd_prefix": "rm(",
     "library": "var_list.r",
     "varRefreshCmd": "cat(var_dic_list()) "
    }
   },
   "types_to_exclude": [
    "module",
    "function",
    "builtin_function_or_method",
    "instance",
    "_Feature"
   ],
   "window_display": false
  }
 },
 "nbformat": 4,
 "nbformat_minor": 2
}
