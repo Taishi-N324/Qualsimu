{
 "cells": [
  {
   "cell_type": "markdown",
   "metadata": {},
   "source": [
    "# 量子ゲートの実装\n",
    "\n",
    "## 目次\n",
    "```{toctree}\n",
    ":maxdepth: 1\n",
    "transmon_gate\n",
    "transmon_gate_2\n",
    "```\n",
    "## 参考文献\n",
    "複数量子ビットに関しては鈴木泰成先生が作成してくださったノートを参考にさせていただきました．心よりお礼申し上げます．他に参考にした文献は以下の通りです．\n",
    "- {cite:p}`10.1063/1.5089550`\n",
    "- {cite:p}`Blais_2021`\n",
    "- {cite:p}`Alexander_2020`\n",
    "- {cite:p}`PhysRevB.81.134507`\n",
    "- {cite:p}`PhysRevA.96.022330`\n",
    "- 越野和樹著「共振器量子電磁力学 : 量子コンピュータのハードウェア理論」サイエンス社, 東京, Japan, 2020.9\n",
    "- [Qiskit Dynamics Documentation](https://qiskit-extensions.github.io/qiskit-dynamics/stable/0.4/userguide/how_to_use_jax.html)\n",
    "- [Qiskit Pulse Documentation](https://docs.quantum.ibm.com/api/qiskit/puls)"
   ]
  }
 ],
 "metadata": {
  "language_info": {
   "name": "python"
  }
 },
 "nbformat": 4,
 "nbformat_minor": 2
}
