{
 "cells": [
  {
   "cell_type": "markdown",
   "metadata": {},
   "source": [
    "# 複数量子ビットの場合"
   ]
  },
  {
   "cell_type": "code",
   "execution_count": 1,
   "metadata": {
    "tags": [
     "hide-input"
    ]
   },
   "outputs": [],
   "source": [
    "from qiskit_ibm_provider import IBMProvider\n",
    "from qiskit.providers.fake_provider import Fake7QPulseV1\n",
    "from qiskit_dynamics import DynamicsBackend\n",
    "from qiskit.circuit import QuantumCircuit, Gate\n",
    "from qiskit.pulse import builder, DriveChannel\n",
    "from qiskit.transpiler import InstructionProperties,CouplingMap\n",
    "\n",
    "import numpy as np\n",
    "import matplotlib.pyplot as plt\n",
    "\n",
    "from scipy.optimize import curve_fit\n",
    "\n",
    "from qiskit import pulse,schedule ,transpile\n",
    "from qiskit.circuit import Parameter\n",
    "from qiskit.circuit import QuantumCircuit, Gate\n",
    "from qiskit import schedule\n",
    "from qiskit.pulse import Schedule,Play,ControlChannel,Acquire,AcquireChannel,MemorySlot,DriveChannel,MeasureChannel\n",
    "\n",
    "from qiskit_ibm_provider.job import job_monitor\n",
    "from qiskit.circuit.library import RZGate,SXGate"
   ]
  },
  {
   "cell_type": "markdown",
   "metadata": {},
   "source": [
    "前のセクションでは1つの量子ビットの演算に焦点を当てました．しかし，量子計算で重要であることは二つ以上の量子ビットをエンタングルさせることです．エンタングルをどのように実装しているのか覗いてみましょう！"
   ]
  },
  {
   "cell_type": "markdown",
   "metadata": {},
   "source": [
    "## 2量子ビット(概略)\n",
    "```{admonition} 注意\n",
    ":class: warning\n",
    "周波数可変型トランズモン量子ビットではこれと違う方法でiSWAPゲートを実現することで2量子ビットのゲート操作をしていますが，このセクションでは主にIBMで用いられている周波数固定型のトランズモン量子ビット(前のセクションで言うトランズモン量子ビット)に焦点を当てて，すべてパルスのみで実現する方法を述べていきます．<br>\n",
    "また，このセクションは特に計算が難しいセクションです．そのため最初に読む際はこのセクションを飛ばし次の第三章に進んでも問題ありません．\n",
    "```\n",
    "### 何ができるようになりたいか？\n",
    "実は2量子ビットの演算させ行うことができれば，たとえ2よりも多くの量子ビットになった場合も演算することができます．別の言い方をすれば，すべての演算は\n",
    "\\begin{align}\n",
    "\\{ X_{\\pi/2}, Z_{\\theta}, CNOT \\}\n",
    "\\end{align}\n",
    "の3つのゲートのみですべての演算を行うことができます．前のセクションでは$X_{\\pi/2}, Z_{\\theta}$の実装を行うことができました．よって，このセクションではCNOTゲートの実装方法を示していきます．<br>\n",
    "以下の図はCNOTゲートは，これから説明するECRというゲートと，前のセクションまでで説明した$X_{\\pi/2}, Z_{\\theta}$ゲートのみで分解した時の図です．"
   ]
  },
  {
   "cell_type": "code",
   "execution_count": 2,
   "metadata": {
    "tags": [
     "hide-input"
    ]
   },
   "outputs": [
    {
     "data": {
      "image/png": "[encoded data removed]",
      "text/plain": [
       "<Figure size 674.219x200.667 with 1 Axes>"
      ]
     },
     "execution_count": 2,
     "metadata": {},
     "output_type": "execute_result"
    }
   ],
   "source": [
    "coupling_string = [[0, 1]]\n",
    "CM = CouplingMap(coupling_string)\n",
    "qc = QuantumCircuit(2)\n",
    "qc.cx(0,1)\n",
    "\n",
    "trans = transpile(qc, coupling_map=CM, basis_gates=['id', 'rz', 'sx', 'ecr']) \n",
    "trans.draw(output='mpl')"
   ]
  },
  {
   "cell_type": "markdown",
   "metadata": {},
   "source": [
    "つまり，すべての演算を行うためには**ECR**ゲートが必要であることが分かります．ECRゲートとは以下の**CR**(Cross Resonance)ゲートの組み合わせでできています．Qiskit上では，$R_{ZX}$ゲートと呼ばれています．"
   ]
  },
  {
   "cell_type": "code",
   "execution_count": 3,
   "metadata": {
    "tags": [
     "hide-input"
    ]
   },
   "outputs": [
    {
     "data": {
      "image/png": "[encoded data removed]",
      "text/plain": [
       "<Figure size 506.997x200.667 with 1 Axes>"
      ]
     },
     "execution_count": 3,
     "metadata": {},
     "output_type": "execute_result"
    }
   ],
   "source": [
    "coupling_string = [[0, 1]]\n",
    "CM = CouplingMap(coupling_string)\n",
    "qc = QuantumCircuit(2)\n",
    "qc.ecr(0,1)\n",
    "\n",
    "trans = transpile(qc, coupling_map=CM, basis_gates=['id', 'rz', 'sx', 'rzx']) \n",
    "trans.draw(output='mpl')"
   ]
  },
  {
   "cell_type": "markdown",
   "metadata": {},
   "source": [
    "以上の回路を見て分かるように，ECRゲートは，二つのSXゲートと，$CR_{\\pm\\pi/4}$で実現できていることが分かります．\n",
    "つまり，2量子ビットでは，$CR_{\\pm \\pi/4}$のみの実装さえ行うことができればすべての量子計算を行うことができるのです．<br>\n",
    "すなわち，すべての演算を行うために必要なゲートは\n",
    "\\begin{align}\n",
    "\\{ X_{\\pi/2}, Z_{\\theta}, CR_{\\pm \\pi/4} \\}\n",
    "\\end{align}\n",
    "のゲートのみを実装してキャリブレーションさえすればよいことが分かります．しかし後で分かるように$CR_{\\pm\\pi/4}$単体でのキャリブレーションではなく，エコーという方法を用いてキャリブレーションを行う必要性があると分かりますが，とりあえずはセクションの最終目標は以下にまとめることにします．\n",
    "```{admonition} 最終目標\n",
    "すべての演算を行うための最後のゲートである$CR_{\\pm \\pi/4}$ゲートを実装すること\n",
    "```\n",
    "です．"
   ]
  },
  {
   "cell_type": "markdown",
   "metadata": {},
   "source": [
    "## 実装の理論\n",
    "以下の構造のように二つの量子ビットが接続されており，量子ビット1にパルスを送る場合を考えましょう：\n",
    "```{figure} ../../../images/multiple_qubit_2.png\n",
    ":width: 500px\n",
    ":align: center\n",
    "\n",
    "二つの量子ビットが接続されており，量子ビット1にパルスを送る場合の回路図\n",
    "```\n",
    "この全体のハミルトニアンはそれぞれのトランズモン量子ビットと，量子ビット1にパルスを接続した項，そしてそれぞれの量子ビットの相互作用の項を加えたものになります：\n",
    "\\begin{align}\n",
    "H = \\underbrace{\\left( -\\frac{\\hbar\\omega_{1}}{2}\\sigma_z\\sigma_I + \\hbar\\Omega_1 V_1(t)\\sigma_y\\sigma_I \\right)}_{量子ビット1} +\\underbrace{\\left( -\\frac{\\hbar\\omega_{2}}{2}\\sigma_I\\sigma_z \\right)}_{量子ビット2} + \\underbrace{g\\sigma_{y}\\sigma_{y}}_{相互作用}\n",
    "\\end{align}\n",
    "なお，$\\sigma_I\\sigma_z$のようにパウリ演算子が2つ連続しているものは，テンソル積を表しています．\n",
    "\n",
    "```{admonition} テンソル積の復習\n",
    ":class: dropdown\n",
    "以下のように表します：\n",
    "\\begin{align}\n",
    "\\sigma_i \\sigma_j = \\sigma_i \\otimes \\sigma_j\n",
    "\\end{align}\n",
    "これは例えば2量子ビットで1量子ビット目を$|a\\rangle$，2量子ビット目を$|b\\rangle$として表すと\n",
    "\\begin{align}\n",
    "\\sigma_i \\sigma_j |ab\\rangle = \\left( \\sigma_i|a\\rangle \\right) \\otimes \\left( \\sigma_j|b\\rangle \\right)\n",
    "\\end{align}\n",
    "となっており，例えば，$\\sigma_i \\sigma_j = \\sigma_x \\sigma_z$，$|a\\rangle=|0\\rangle, |b\\rangle = |0\\rangle$の時，\n",
    "\\begin{align}\n",
    "\\sigma_x \\sigma_z |00\\rangle &= \\left( \\sigma_x |0\\rangle \\right) \\otimes \\left( \\sigma_z |0\\rangle \\right)\\\\\n",
    "&=  |1\\rangle \\otimes |0\\rangle = |10\\rangle\n",
    "\\end{align}\n",
    "となります．つまり，式()の1量子ビット目のみにかかるハミルトニアンのパウリ演算子は必ず$\\sigma_j \\otimes\\sigma_I $となっていますし，2量子ビット目は$\\sigma_I \\otimes\\sigma_j $となっています．\n",
    "```\n"
   ]
  },
  {
   "cell_type": "markdown",
   "metadata": {},
   "source": [
    "前のセクションよりも少しハミルトニアンは複雑になりましたが，やることは同様です．以下のシュレディンガー方程式を解いて，$|\\psi(t)\\rangle$を導出して$V(t)$の性質に応じてどのように量子ビットが変化をするかを考察するだけです．\n",
    "\\begin{align}\n",
    "i\\hbar \\frac{\\partial}{\\partial t} |\\psi(t)\\rangle  = H |\\psi(t)\\rangle.\n",
    "\\end{align}\n",
    "シュレディンガー方程式を解析して，どのようにして$CR_{\\pm\\pi/4}$を実現しているかを除いてみましょう！これから行う流れは以下の通りになっています．\n",
    "\n",
    "```{image} ../../../images/cr_flow.png\n",
    ":width: 600px\n",
    ":align: center\n",
    "```"
   ]
  },
  {
   "cell_type": "markdown",
   "metadata": {},
   "source": [
    "### SW変換をする1\n",
    "SW変換とはSchrieffer-Wolff変換のことを指します．SW変換とは，摂動論(ハミルトニアンの固有値を近似的に求める方法)の行列形式のことです．つまり，以下のように固有値と固有状態が分かっているハミルトニアンの項と，固有値と固有状態が解析できない微小な項(摂動項と言います)があった時，解析ができている項を利用して，近似的に解く方法です．\n",
    "\\begin{align}\n",
    "H = \\underbrace{H_0}_{固有値・固有状態が既知} + \\underbrace{V}_{摂動項} \n",
    "\\end{align}\n",
    "以下にSchrieffer-Wolff変換の概要を述べています．\n",
    "```{admonition}　Schrieffer-Wolff変換\n",
    ":class: dropdown\n",
    "\\begin{align}\n",
    "H = \\underbrace{H_0}_{固有値・固有状態が既知} + \\underbrace{V}_{摂動項} \n",
    "\\end{align}\n",
    "のように，固有値・固有状態が分かっている項と，解析できない摂動項があるハミルトニアンを考えます．ここで，摂動項の対角項は$H_0$に組み込むとして$V$は対角成分は含まれていないとします．また，$H_0$の固有値・固有状態を$E_i,|v_i\\rangle$とします．<br>\n",
    "すると，$H_0$は\n",
    "\\begin{align}\n",
    "H_0 = \\sum_i E_i |v_i\\rangle\\langle v_i|\n",
    "\\end{align}\n",
    "と表すことができます．<br>\n",
    "まずは以下のように行列$S$を定義します：\n",
    "\\begin{align}\n",
    "S = - \\sum_{i,j}\\frac{\\langle v_i|V|v_j\\rangle}{E_i-E_j}|v_i\\rangle\\langle v_j|\n",
    "\\end{align}\n",
    "ここで，Baker-Campbell-Hausdorffの関係式：\n",
    "\\begin{align}\n",
    "e^{-S}H e^{S} = H + [H,S] + \\frac{1}{2}[ [H,S],S ] + \\mathcal{O}(S^3)\n",
    "\\end{align}\n",
    "に$H=H_0+S$を代入すると，\n",
    "\\begin{align}\n",
    "e^{-S}H e^{S} = \\underbrace{H_0}_{H^{(0)}} + \\underbrace{V+[H_0,S]}_{H^{(1)}} + \\underbrace{ [V,S]+ \\frac{1}{2}[ [H_0,S],S ] }_{H^{(2)}} + \\cdots\n",
    "\\end{align}\n",
    "となります．ただし，$[A,B]=AB-BA$を表します．ここで，$H^{(1)}$に関して．\n",
    "\\begin{align}\n",
    "V+[H_0,S] &= V+ H_0 S - SH_0 \\\\\n",
    "&= V+ \\left( \\sum_i E_i |v_i\\rangle\\langle v_i| \\right)\\left( - \\sum_{i,j}\\frac{\\langle v_i|V|v_j\\rangle}{E_i-E_j}|v_i\\rangle\\langle v_j| \\right) - \\left( - \\sum_{i,j}\\frac{\\langle v_i|V|v_j\\rangle}{E_i-E_j}|v_i\\rangle\\langle v_j| \\right)\\left( \\sum_i E_i |v_i\\rangle\\langle v_i| \\right)\\\\\n",
    "&= V+ \\left( - \\sum_{i,j} E_i\\frac{\\langle v_i|V|v_j\\rangle}{E_i-E_j}|v_i\\rangle\\langle v_j| \\right) + \\left( \\sum_{i,j} E_j\\frac{\\langle v_i|V|v_j\\rangle}{E_i-E_j}|v_i\\rangle\\langle v_j| \\right)\\\\\n",
    "&= V-\\sum_{i,j} \\langle v_i|V|v_j\\rangle |v_i\\rangle\\langle v_j|\\\\\n",
    "&= V-V = 0\n",
    "\\end{align}\n",
    "となり，$H^{(1)}$の項は$0$になることが分かります．よって，$[H_0,S]=-V$であるため，\n",
    "\\begin{align}\n",
    "e^{-S}H e^{S} &= \\underbrace{H_0}_{H^{(0)}} +  \\underbrace{ [V,S]+ \\frac{1}{2}[ [H_0,S],S ] }_{H^{(2)}} + \\mathcal{O}(S^3)\\\\\n",
    "&= H_0+ \\frac{1}{2}[V,S] +  \\mathcal{O}(S^3)\n",
    "\\end{align}\n",
    "になり，$e^{-S}H e^{S}$は$H$を$\\mathcal{O}(S^2)$の精度で近似できていることが分かります．よって，\n",
    "\\begin{align}\n",
    "H \\sim e^{-S}H e^{S}\n",
    "\\end{align}\n",
    "とすることが可能で，この変換をSchrieffer-Wolff変換と言います．\n",
    "```"
   ]
  },
  {
   "cell_type": "markdown",
   "metadata": {},
   "source": [
    "#### 行列$S$を求める\n",
    "ここから先はこのSW変換を利用してハミルトニアンを解析していきます．以下のようにハミルトニアンを各項に分けます：\n",
    "\\begin{align}\n",
    "H &= \\underbrace{\\left( -\\frac{\\hbar\\omega_{1}}{2}\\sigma_z\\sigma_I + \\hbar\\Omega_1 V_1(t)\\sigma_y\\sigma_I \\right)}_{量子ビット1} +\\underbrace{\\left( -\\frac{\\hbar\\omega_{2}}{2}\\sigma_I\\sigma_z \\right)}_{量子ビット2} + \\underbrace{g\\sigma_{y}\\sigma_{y}}_{相互作用}\\\\\n",
    "&= \\underbrace{ -\\frac{\\hbar\\omega_{1}}{2}\\sigma_z\\sigma_I -\\frac{\\hbar\\omega_{2}}{2}\\sigma_I\\sigma_z }_{H_0} + \\underbrace{  \\hbar\\Omega_1 V_1(t)\\sigma_y\\sigma_I }_{H_d} + \\underbrace{ g\\sigma_{y}\\sigma_{y} }_{H_{\\text{int}}}\n",
    "\\end{align}\n",
    "\n",
    "ここで，$H_0$は$\\sigma_z$のみを含んでおり，それぞれの固有状態と固有値が得られていることが分かります．\n",
    "\\begin{align}\n",
    "H_0 |00\\rangle &= -\\frac{\\hbar}{2} \\left( \\omega_{1}+\\omega_{2}\\right) |00\\rangle =: E_{00}|00\\rangle \\\\\n",
    "H_0 |01\\rangle &= -\\frac{\\hbar}{2} \\left( \\omega_{1}-\\omega_{2}\\right) |01\\rangle =: E_{01}|01\\rangle\\\\\n",
    "H_0 |10\\rangle &= -\\frac{\\hbar}{2} \\left( -\\omega_{1}+\\omega_{2}\\right) |10\\rangle =: E_{10}|10\\rangle\\\\\n",
    "H_0 |11\\rangle &= -\\frac{\\hbar}{2} \\left( -\\omega_{1}-\\omega_{2}\\right) |11\\rangle =: E_{11}|11\\rangle\n",
    "\\end{align}\n",
    "よって，$H_0$は固有値と固有状態が分かっており，一度$H_d$の項は置いておくと，摂動項は$H_{\\text{int}}$です．よって，行列$S$を求めると\n",
    "\\begin{align}\n",
    "S &= -\\sum_{k,l} \\frac{\\langle k | H_{\\text{int}} | l\\rangle }{E_{k}-E_{l}}|k\\rangle\\langle l|, \\quad k,l \\in \\{ 00,01,10,11 \\}\\\\\n",
    "&= -\\sum_{k,l} \\frac{\\langle k | g\\sigma_{y}\\sigma_{y} | l\\rangle }{E_{k}-E_{l}}|k\\rangle\\langle l|\n",
    "\\end{align}\n",
    "となります．よってこれより行列の計算をすると，\n",
    "\\begin{align}\n",
    "S = \\frac{g}{\\hbar}\n",
    "\\begin{bmatrix}\n",
    "0 & 0 & 0 & 1/(\\omega_1+\\omega_2)\\\\\n",
    "0 & 0 & -1/(\\omega_1-\\omega_2) & 0\\\\\n",
    "0 & 1/(\\omega_1-\\omega_2) & 0 & 0\\\\\n",
    "1/(\\omega_1+\\omega_2) & 0 & 0 & 0\n",
    "\\end{bmatrix}\n",
    "\\end{align}\n",
    "となります．ここで，通常量子ビットの周波数は4GHzほどに対して，各量子ビットの周波数の差は0.1GHzほどになるため，$\\omega_1-\\omega_2 \\sim 0.1$GHzに対して，$\\omega_1+\\omega_2\\sim 8$GHzほどになり，約100倍のずれがあることがあることが分かります，$1/(\\omega_1+\\omega_2)$の項は$1/(\\omega_1-\\omega_2)$に比べて十分に小さいため，無視することができます．<br>\n",
    "よって，行列$S$は$\\Delta = \\omega_1-\\omega_2$として，\n",
    "```{admonition} 行列S\n",
    "\n",
    "\\begin{align}\n",
    "S = \\frac{g}{\\hbar\\Delta}\n",
    "\\begin{bmatrix}\n",
    "0 & 0 & 0 & 0\\\\\n",
    "0 & 0 & -1 & 0\\\\\n",
    "0 & 1 & 0 & 0\\\\\n",
    "0 & 0 & 0 & 0\n",
    "\\end{bmatrix}\n",
    "\\end{align}\n",
    "```\n",
    "となります．$S$を求めることができたため次にハミルトニアンをSW変換して近似をしていきます．"
   ]
  },
  {
   "cell_type": "markdown",
   "metadata": {},
   "source": [
    "#### ハミルトニアンを変換する\n",
    "よって，変換後のハミルトニアンを$H'$とすると，\n",
    "\\begin{align}\n",
    "H' \\sim e^{-S} H  e^{S} =  e^{-S} \\left( H_0  + H_{\\text{int}} + H_d \\right)  e^{S}\n",
    "\\end{align}\n",
    "となります．ここで，SW変換で説明をしたように，$H_0 +  H_{\\text{int}}$の部分は\n",
    "\\begin{align}\n",
    "e^{-S} \\left( H_0 +  H_{\\text{int}} \\right)e^{S} \\approx  H_0 + \\frac{1}{2}[ H_{\\text{int}}, S ]\n",
    "\\end{align}\n",
    "となり，$[ H_{\\text{int}}, S ]$の部分を計算すると，\n",
    "\\begin{align}\n",
    "[ H_{\\text{int}}, S ] &= H_{\\text{int}} S - S H_{\\text{int}}\\\\\n",
    "&= \n",
    "\\frac{g^2}{\\hbar\\Delta}\n",
    "\\begin{bmatrix}\n",
    "0 & 0 & 0 & 0\\\\\n",
    "0 & 2 & 0 & 0\\\\\n",
    "0 & 0 & -2 & 0\\\\\n",
    "0 & 0 & 0 & 0\n",
    "\\end{bmatrix}\n",
    "=\\frac{g^2}{\\hbar\\Delta} \\left( \\sigma_z\\sigma_I - \\sigma_I\\sigma_z \\right)\n",
    "\\end{align}\n",
    "となるため，$H_0$を代入すると，\n",
    "\\begin{align}\n",
    "e^{-S} \\left( H_0 +  H_{\\text{int}} \\right)e^{S} &=H_0 + \\frac{1}{2}[ H_{\\text{int}}, S ] \\\\\n",
    "&= -\\frac{\\hbar\\omega_{1}}{2}\\sigma_z\\sigma_I -\\frac{\\hbar\\omega_{2}}{2}\\sigma_I\\sigma_z +\\frac{1}{2}\\frac{g^2}{\\hbar\\Delta} \\left( \\sigma_z\\sigma_I - \\sigma_I\\sigma_z \\right)\n",
    "\\end{align}\n",
    "となります．<br>\n",
    "次に，$H_d$の項に関しても同様にして変換をします．BCH公式を用いて展開すると，\n",
    "\\begin{align}\n",
    "e^{-S} H_d e^{S} = H_d + [H_d,S] + \\frac{1}{2}[[H_d,S],S] + \\mathcal{O}(S^3)\n",
    "\\end{align}\n",
    "となります．この行列$S$は$H_{\\text{int}}$に対応しているものであり，$H_d$に対応する行列$S$ではないため，消去できる項はなくただ単にBCH公式を使っています．この場合は二次以上の項を無視すると，\n",
    "\\begin{align}\n",
    "e^{-S} H_d e^{S}  \\sim H_d + [H_d,S]\n",
    "\\end{align}\n",
    "となり，\n",
    "\\begin{align}\n",
    "[H_d,S] &= H_d S - S H_d \\\\\n",
    "&= \\hbar\\Omega_1V_1(t)\\frac{g}{\\hbar\\Delta}\n",
    "\\begin{bmatrix}\n",
    "0 & -i & 0 & 0\\\\\n",
    "i & 0 & 0 & 0\\\\\n",
    "0 & 0 & 0 & i\\\\\n",
    "0 & 0 & -i & 0\n",
    "\\end{bmatrix}\n",
    "= \\hbar\\Omega_1V_1(t)\\frac{g}{\\hbar\\Delta}\\sigma_z \\sigma_y\n",
    "\\end{align}\n",
    "であるため，\n",
    "\\begin{align}\n",
    "e^{-S} H_d e^{S} =\\hbar\\Omega_1V_1(t)\\sigma_y\\sigma_I +  \\hbar\\Omega_1V_1(t)\\frac{g}{\\hbar\\Delta}\\sigma_z \\sigma_y\n",
    "\\end{align}\n",
    "となります．よって以下のようにハミルトニアンを近似することができます．\n",
    "\n",
    "```{admonition} SW変換によるハミルトニアンの近似\n",
    "\n",
    "\\begin{align}\n",
    "H \\sim H'&:=  e^{-S} H  e^{S}  \\\\\n",
    "&=  e^{-S} (H_0 + H_{\\text{int}})e^{S} + e^{-S} H_d e^{S} \\\\\n",
    "&=-\\frac{\\hbar\\omega_{1}}{2}\\sigma_z\\sigma_I -\\frac{\\hbar\\omega_{2}}{2}\\sigma_I\\sigma_z +\\frac{1}{2}\\frac{g^2}{\\hbar\\Delta} \\left( \\sigma_z\\sigma_I - \\sigma_I\\sigma_z \\right)\\\\\n",
    "&\\quad +\\hbar\\Omega_1V_1(t)\\sigma_y\\sigma_I +  \\hbar\\Omega_1V_1(t)\\frac{g}{\\hbar\\Delta}\\sigma_z \\sigma_y\\\\\n",
    "&= -\\frac{\\hbar}{2}\\left( \\omega_1- \\frac{g^2}{\\hbar^2\\Delta} \\right)\\sigma_z\\sigma_I -\\frac{\\hbar}{2}\\left( \\omega_2 + \\frac{g^2}{\\hbar^2\\Delta} \\right)\\sigma_I\\sigma_z\\\\\n",
    "&\\quad +\\hbar\\Omega_1V_1(t)\\sigma_y\\sigma_I +  \\hbar\\Omega_1V_1(t)\\frac{g}{\\hbar\\Delta}\\sigma_z \\sigma_y\n",
    "\\end{align}\n",
    "```\n",
    "つまり，このハミルトニアンから得られるシュレディンガー方程式：\n",
    "\\begin{align}\n",
    "i\\hbar \\frac{d}{dt}|\\psi(t)\\rangle = H' |\\psi(t)\\rangle\n",
    "\\end{align}\n",
    "を解析させすればよくなることが分かります．しかしまだ$\\sigma_z$などの成分が含まれているため，前のセクションと同様にして回転系に入りましょう！"
   ]
  },
  {
   "cell_type": "markdown",
   "metadata": {},
   "source": [
    "### 回転系に入る\n",
    "ここでは，\n",
    "\\begin{align}\n",
    "\\tilde{\\omega}_1 &=  \\omega_1- \\frac{g^2}{\\hbar^2\\Delta} \\\\\n",
    "\\tilde{\\omega}_2 &=  \\omega_2 + \\frac{g^2}{\\hbar^2\\Delta} \n",
    "\\end{align}\n",
    "と定義をします．このセクションでは量子ビット1,2がそれぞれ$\\tilde{\\omega}_2$で回転している場合を考えます．つまり回転演算子は\n",
    "\\begin{align}\n",
    "\\hat{U}_{\\text{rf}}(t) = \\exp\\left[ -i \\frac{\\tilde{\\omega}_2}{2}t\\sigma_z\\sigma_I \\right]\\exp\\left[ -i \\frac{\\tilde{\\omega}_2}{2}t\\sigma_I\\sigma_z \\right]\n",
    "\\end{align}\n",
    "となり，回転系でのハミルトニアンは，前のセクションで導出したように，\n",
    "\\begin{align}\n",
    "\\tilde{H}' = i\\hbar\\dot{\\hat{U}}_{\\text{rf}}(t)\\hat{U}_{\\text{rf}}^{\\dagger}(t) + \\hat{U}_{\\text{rf}}(t)H'\\hat{U}_{\\text{rf}}^\\dagger(t)\n",
    "\\end{align}\n",
    "で与えれるため，これを計算すると，\n",
    "\\begin{align}\n",
    "\\tilde{H}' &:= -\\frac{\\hbar}{2}\\left( \\tilde{\\omega}_1 - \\tilde{\\omega}_2 \\right)\\sigma_z\\sigma_I + \\hbar\\Omega_1V_1(t)\\left( \\sigma_y\\cos(\\tilde{\\omega}_2 t)- \\sigma_x \\sin(\\tilde{\\omega}_2 t) \\right)\\sigma_I\\\\\n",
    "&\\quad + \\hbar\\Omega_1V_1(t)\\frac{g}{\\hbar\\Delta}\\sigma_z \\left( \\sigma_y\\cos(\\tilde{\\omega}_2 t)- \\sigma_x \\sin(\\tilde{\\omega}_2 t) \\right)\n",
    "\\end{align}\n",
    "となります．ここで，先ほどの量子ビット一つの場合と同様にして1つ目の量子ビットに対して\n",
    "\\begin{align}\n",
    "V_1(t) =  V_0 \\exp\\left[ -\\frac{(t-t_0)^2}{2\\sigma^2} \\right]\\sin(\\omega_d t+ \\phi)\n",
    "\\end{align}\n",
    "というパルスを打ち込むとします．なお，ここからは先は簡単のため\n",
    "\\begin{align}\n",
    "A(t) :=  V_0 \\exp\\left[ -\\frac{(t-t_0)^2}{2\\sigma^2} \\right]\n",
    "\\end{align}\n",
    "と表記します．ここで，\n",
    "\\begin{align}\n",
    "V_1(t)\\left( \\sigma_y\\cos(\\tilde{\\omega}_2 t)- \\sigma_x \\sin(\\tilde{\\omega}_2 t) \\right)\n",
    "\\end{align}\n",
    "の部分に注目し，量子ビットが1つの場合に導出した回転波近似から得られる式：\n",
    "\\begin{align}\n",
    "\\sin(\\omega_d t+ \\phi)\\left( \\sigma_y\\cos(\\tilde{\\omega}_2 t)- \\sigma_x \\sin(\\tilde{\\omega}_2 t) \\right) \\approx -\\frac{1}{2}\\left( \\sin(\\tilde{\\omega}_2 t-\\omega_d t+\\phi)\\sigma_y +\\cos(\\tilde{\\omega}_2 t-\\omega_d t+\\phi)\\sigma_x \\right)\n",
    "\\end{align}\n",
    "より，\n",
    "\\begin{align}\n",
    "\\tilde{H}' &= -\\frac{\\hbar}{2}\\left( \\tilde{\\omega}_1 - \\tilde{\\omega}_2 \\right)\\sigma_z\\sigma_I - \\hbar\\Omega_1\\frac{1}{2}A(t)\\left( \\sin(\\tilde{\\omega}_2 t-\\omega_d t+\\phi)\\sigma_y +\\cos(\\tilde{\\omega}_2 t-\\omega_d t+\\phi)\\sigma_x \\right) \\sigma_I\\\\\n",
    "&\\quad - \\hbar\\Omega_1\\frac{g}{\\hbar\\Delta}\\sigma_z \\frac{1}{2}A(t)\\left( \\sin(\\tilde{\\omega}_2 t-\\omega_d t+\\phi)\\sigma_y +\\cos(\\tilde{\\omega}_2 t-\\omega_d t+\\phi)\\sigma_x \\right)\n",
    "\\end{align}\n",
    "となります． **打つパルスの周波数$\\omega_d$を$\\tilde{\\omega}_2$** にします．すると，$\\omega_d = \\tilde{\\omega}_2$であるため，\n",
    "\\begin{align}\n",
    "\\tilde{H}' &= -\\frac{\\hbar}{2}\\left( \\tilde{\\omega}_1 - \\tilde{\\omega}_2 \\right)\\sigma_z\\sigma_I- \\hbar\\Omega_1\\frac{1}{2}A(t) ( \\sin(\\phi)\\sigma_y + \\cos(\\phi)\\sigma_x )\\sigma_I\\\\\n",
    "&\\quad - \\hbar\\Omega_1\\frac{g}{\\hbar\\Delta}\\sigma_z \\frac{1}{2}A(t)( \\sin(\\phi)\\sigma_y + \\cos(\\phi)\\sigma_x )\n",
    "\\end{align}\n",
    "となります．そして，先に答えを言ってしまうとCRゲートを実現させるときは$\\phi=0$とします．よって，\n",
    "\\begin{align}\n",
    "\\tilde{H}' = -\\frac{\\hbar}{2}\\left( \\tilde{\\omega}_1 - \\tilde{\\omega}_2 \\right)\\sigma_z\\sigma_I- \\hbar\\Omega_1\\frac{1}{2}A(t) \\sigma_x \\sigma_I- \\hbar\\Omega_1\\frac{g}{\\hbar\\Delta}\\sigma_z \\frac{1}{2}A(t)\\sigma_x\n",
    "\\end{align}\n",
    "となります．以上をまとめて先に答えを提示すると，CRゲートは以下で実現されます：\n",
    "```{admonition} CRゲートの実現方法\n",
    "1つ目の量子ビットに対して$\\omega_d = \\tilde{\\omega}_2$,$\\phi=0$となる次のパルスを打ちます．\n",
    "\\begin{align}\n",
    "V_1(t) =  A(t)\\sin(\\tilde{\\omega}_2 t)\n",
    "\\end{align}\n",
    "そして，キャリブレーションを行い，$CR_{\\theta}$が実現できるパルスの振幅を記録します．\n",
    "```"
   ]
  },
  {
   "cell_type": "markdown",
   "metadata": {},
   "source": [
    "### 量子ビット1のみにSW変換をする\n",
    "先ほどの回転系でのハミルトニアンは\n",
    "\\begin{align}\n",
    "\\tilde{H}' = \\underbrace{\\left(-\\frac{\\hbar}{2}\\left( \\tilde{\\omega}_1 - \\tilde{\\omega}_2 \\right)\\sigma_z- \\hbar\\Omega_1\\frac{1}{2}A(t) \\sigma_x\\right)}_{量子ビット1のみの作用}\\sigma_I - \\underbrace{\\hbar\\Omega_1\\frac{g}{\\hbar\\Delta}\\frac{1}{2}A(t)\\sigma_z \\sigma_x}_{相互作用をする項}\n",
    "\\end{align}\n",
    "と書くことができます．ここで，一端，相互作用の項を忘れて，量子ビット1のみの作用を取り出してSW変換を計算します．<br>\n",
    "1つ目の量子ビットの項のみを取り出すと\n",
    "\\begin{align}\n",
    "\\underbrace{-\\frac{\\hbar}{2}\\left( \\tilde{\\omega}_1 - \\tilde{\\omega}_2 \\right)\\sigma_z}_{\\tilde{H}_0} + \\underbrace{\\left(- \\hbar\\Omega_1\\frac{1}{2}A(t) \\sigma_x\\right)}_{\\tilde{H}_d}\n",
    "\\end{align}\n",
    "となります．ここで，$\\tilde{H}_0$の固有値・固有状態は次のように求まります．\n",
    "\\begin{align}\n",
    "\\tilde{H}_0|0\\rangle &= -\\frac{\\hbar}{2}\\left( \\tilde{\\omega}_1 - \\tilde{\\omega}_2 \\right) |0\\rangle =: E_0 |0\\rangle\\\\\n",
    "\\tilde{H}_0|1\\rangle &= \\frac{\\hbar}{2}\\left( \\tilde{\\omega}_1 - \\tilde{\\omega}_2 \\right) |1\\rangle =: E_1 |1\\rangle\n",
    "\\end{align}\n",
    "よって．$\\tilde{H}_d$の部分を摂動項としてSW変換をして対角化します．<br>\n",
    "まず行列$S$を求めると\n",
    "```{admonition} 行列$S$\n",
    "\\begin{align}\n",
    "S &= -\\sum_{i,j}\\frac{ \\langle i|\\tilde{H}_d |j\\rangle }{E_i-E_j}|i\\rangle \\langle j|, \\quad \\{i,j\\} = \\{ 0,1 \\}\\\\\n",
    "&= \\frac{1}{\\hbar(\\tilde{\\omega}_1 - \\tilde{\\omega}_2)}\\left(- \\hbar\\Omega_1\\frac{1}{2}A(t)\\right)\n",
    "\\begin{bmatrix}\n",
    "0 & 1 \\\\\n",
    "-1 & 0\n",
    "\\end{bmatrix}\n",
    "\\\\\n",
    "&= \\frac{i}{\\hbar\\tilde{\\Delta}}\\left(- \\hbar\\Omega_1\\frac{1}{2}A(t)\\right)\n",
    "\\sigma_y,\\quad ただし，\\tilde{\\Delta} = \\tilde{\\omega}_1 - \\tilde{\\omega}_2 とした．\n",
    "\\end{align}\n",
    "```\n",
    "となります．そして近似したハミルトニアンは\n",
    "\\begin{align}\n",
    "\\tilde{H}' \\sim \\tilde{H}'' := \\left( \\tilde{H}_0+ \\frac{1}{2}[ \\tilde{H}_d, S ] \\right)\\sigma_I -\\hbar\\Omega_1\\frac{g}{\\hbar\\Delta}\\frac{1}{2}A(t) \\left( e^{-S}\\sigma_z e^{S}\\right)\\sigma_x \n",
    "\\end{align}\n",
    "となります．ただし，オーダーは$ \\mathcal{O}(\\hbar\\Omega_1^3)$です．ここで，\n",
    "\\begin{align}\n",
    "[ \\tilde{H}_d, S ]  &= \\frac{1}{4}\\hbar\\Omega_1^2 A^2(t)\\frac{i}{\\hbar\\tilde{\\Delta}}[\\sigma_x,\\sigma_y]\\\\\n",
    "&= -\\frac{1}{2}\\hbar\\Omega_1^2 A^2(t)\\frac{1}{\\hbar\\tilde{\\Delta}}\\sigma_z\n",
    "\\end{align}\n",
    "であることと，BCHの関係式より，\n",
    "\\begin{align}\n",
    "e^{-S}\\sigma_z e^{S} &= \\sigma_z + [ \\sigma_z,S ] + \\mathcal{O}(\\hbar\\Omega_1^2)\\\\\n",
    "&= \\sigma_z + \\frac{i}{\\hbar\\tilde{\\Delta}}\\left(- \\hbar\\Omega_1\\frac{1}{2}A(t)\\right) [\\sigma_z,\\sigma_y]+ \\mathcal{O}(\\hbar\\Omega_1^2)\\\\\n",
    "&= \\sigma_z +  \\frac{2}{\\hbar\\tilde{\\Delta}}\\left(- \\hbar\\Omega_1\\frac{1}{2}A(t)\\right) \\sigma_x + \\mathcal{O}(\\hbar\\Omega_1^2)\n",
    "\\end{align}\n",
    "となることよりそれぞれ代入すると，\n",
    "\\begin{align}\n",
    "\\tilde{H}'' &= \\left(-\\frac{\\hbar}{2}\\tilde{\\Delta} -\\frac{1}{4}\\hbar\\Omega_1^2 A^2(t)\\frac{1}{\\hbar\\tilde{\\Delta}} \\right) \\sigma_z\\sigma_I -\\hbar\\Omega_1\\frac{g}{\\hbar\\Delta}\\frac{1}{2}A(t) \\left( \\sigma_z +  \\frac{2}{\\hbar\\tilde{\\Delta}}\\left(- \\hbar\\Omega_1\\frac{1}{2}A(t)\\right) \\sigma_x \\right)\\sigma_x\\\\\n",
    "&=\\left(-\\frac{\\hbar}{2}\\tilde{\\Delta} -\\frac{1}{4}\\hbar\\Omega_1^2 A^2(t)\\frac{1}{\\hbar\\tilde{\\Delta}} \\right) \\sigma_z\\sigma_I + \\left( -\\hbar\\Omega_1\\frac{g}{\\hbar\\Delta}\\frac{1}{2}A(t) \\right)\\sigma_z \\sigma_x + \\left( \\hbar\\Omega_1^2 \\frac{g A(t)}{\\hbar^2 \\Delta \\tilde{\\Delta}} \\right)\\sigma_x\\sigma_x\n",
    "\\end{align}"
   ]
  },
  {
   "cell_type": "markdown",
   "metadata": {},
   "source": [
    "となりますが，$\\mathcal{O}\\left(\\hbar\\Omega_1/\\Delta\\right)^2$は$\\mathcal{O}\\left(\\hbar\\Omega_1/\\Delta\\right)$にくらべて十分に小さいので，\n",
    "\\begin{align}\n",
    "H'' \\sim H''' := \\left(-\\frac{\\hbar}{2}\\tilde{\\Delta} -\\frac{1}{4}\\hbar\\Omega_1^2 A^2(t)\\frac{1}{\\hbar\\tilde{\\Delta}} \\right) \\sigma_z\\sigma_I + \\left( -\\hbar\\Omega_1\\frac{g}{\\hbar\\Delta}\\frac{1}{2}A(t) \\right)\\sigma_z \\sigma_x\n",
    "\\end{align}\n",
    "と近似できます．ここで，最後に1つ目の量子ビットが$\\tilde{\\Delta}$で回転する回転系に移ります．回転演算子は1量子ビットで説明したように\n",
    "\\begin{align}\n",
    "\\hat{U}_{\\text{rf}}(t) = \\exp\\left( -i\\frac{\\tilde{\\Delta}t}{2}\\sigma_z\\sigma_I \\right)\n",
    "\\end{align}\n",
    "で表されます．1量子ビットの場合で説明したように，回転系のハミルトニアンは\n",
    "\\begin{align}\n",
    "i\\hbar \\dot{\\hat{U}}_{\\text{rf}}(t)\\hat{U}^{\\dagger}_{\\text{rf}}(t) + \\hat{U}_{\\text{rf}}(t) H \\hat{U}^{\\dagger}_{\\text{rf}}(t)\n",
    "\\end{align}\n",
    "となるため，この回転系のハミルトニアンに$\\hat{U}_{\\text{rf}}(t)$を代入すると，\n",
    "\\begin{align}\n",
    "\\left(-\\frac{1}{4}\\hbar\\Omega_1^2 A^2(t)\\frac{1}{\\hbar\\tilde{\\Delta}} \\right) \\sigma_z\\sigma_I + \\left( -\\hbar\\Omega_1\\frac{g}{\\hbar\\Delta}\\frac{1}{2}A(t) \\right)\\sigma_z \\sigma_x\n",
    "\\end{align}\n",
    "となります．なお，導出は以下にまとめています．"
   ]
  },
  {
   "cell_type": "markdown",
   "metadata": {},
   "source": [
    "よって，回転系での時間発展は回転系での初期状態を$|\\psi_{\\text{rf}}(0)\\rangle$とすると，時刻$t$での状態$|\\psi_{\\text{rf}}(t)\\rangle$は\n",
    "\\begin{align}\n",
    "|\\psi_{\\text{rf}}(t)\\rangle = \\exp\\left[ \\frac{1}{i\\hbar}\\left\\{ \\int_0^{t}\\left(-\\frac{1}{4}\\hbar\\Omega_1^2 A^2(t')\\frac{1}{\\hbar\\tilde{\\Delta}} \\right)dt' \\sigma_z\\sigma_I + \\int_0^{t}\\left( -\\hbar\\Omega_1\\frac{g}{\\hbar\\Delta}\\frac{1}{2}A(t') \\right)dt'\\sigma_z \\sigma_x  \\right\\}\\right]|\\psi_{\\text{rf}}(0)\\rangle\n",
    "\\end{align}\n",
    "となります．$t$が$\\sigma,t_0$よりも十分に大きいとするとガウス積分より\n",
    "\\begin{align}\n",
    "\\int_0^{t} A(t')dt' &= \\int_0^{t}V_0 \\exp\\left[ -\\frac{(t'-t_0)^2}{2\\sigma^2} \\right]dt' =V_0\\sigma\\sqrt{2\\pi}\\\\\n",
    "\\int_0^{t} A^2(t')dt' &=\\int_0^{t}V_0^2 \\exp\\left[ -\\frac{(t'-t_0)^2}{\\sigma^2} \\right]dt'=V_0^2\\sigma\\sqrt{\\pi}\\\\\n",
    "\\end{align}\n",
    "となるため，\n",
    "\\begin{align}\n",
    "\\theta_{ZI} := -V_0^2 \\frac{\\hbar\\Omega_1^2 \\cdot \\sigma\\sqrt{\\pi}}{2\\hbar^2 \\tilde{\\Delta}}, \\quad \\theta_{ZX}:= V_0 \\frac{\\hbar\\Omega_1^2 g\\sigma\\sqrt{2\\pi}}{\\hbar^2\\Delta}\n",
    "\\end{align}\n",
    "とすると，\n",
    "\\begin{align}\n",
    "|\\psi_{\\text{rf}}(t)\\rangle = \\exp\\left( -i\\frac{\\theta_{ZI}}{2}\\sigma_z\\sigma_I-i\\frac{\\theta_{ZX}}{2}\\sigma_z\\sigma_x \\right)|\\psi_{\\text{rf}}(0)\\rangle\n",
    "\\end{align}\n",
    "となります．ここで，$\\theta_{ZI}$の成分を除去することができればCRゲート：\n",
    "\\begin{align}\n",
    "|\\psi_{\\text{rf}}(t)\\rangle = \\exp\\left( -i\\frac{\\theta_{ZX}}{2}\\sigma_z\\sigma_x \\right)|\\psi_{\\text{rf}}(0)\\rangle\n",
    "\\end{align}\n",
    "を実現することができます．"
   ]
  },
  {
   "cell_type": "markdown",
   "metadata": {},
   "source": [
    "## どのようにして不要な項を消すか？\n",
    "ここからはどのようにして不要な項である$\\theta_{ZI}$の成分を消去することができるかを考えていきます．実は"
   ]
  },
  {
   "cell_type": "code",
   "execution_count": 4,
   "metadata": {
    "tags": [
     "hide-input"
    ]
   },
   "outputs": [
    {
     "data": {
      "image/png": "[encoded data removed]",
      "text/plain": [
       "<Figure size 621.739x200.667 with 1 Axes>"
      ]
     },
     "execution_count": 4,
     "metadata": {},
     "output_type": "execute_result"
    }
   ],
   "source": [
    "qc = QuantumCircuit(2)\n",
    "qc.rzx(np.pi/4,0,1)\n",
    "qc.sx(0)\n",
    "qc.sx(0)\n",
    "qc.rzx(-np.pi/4,0,1)\n",
    "qc.sx(0)\n",
    "qc.sx(0)\n",
    "qc.draw(output='mpl')"
   ]
  },
  {
   "cell_type": "markdown",
   "metadata": {},
   "source": [
    "という回路は，この$\\theta_{ZX}$の項を作用を打ち消ししつつ，全体として$CR_{\\pi/2}$を実現することができています．(このことを**エコー**と呼びます．)<br>\n",
    "以下では実際に計算をして$\\theta_{ZX}$の項が消えていることと，全体として$CR_{\\pi/2}$を実現できていることを確認します．"
   ]
  },
  {
   "cell_type": "markdown",
   "metadata": {},
   "source": [
    "$CR_{\\pi/4}$を実現するためには\n",
    "\\begin{align}\n",
    "\\theta_{ZX}:= V_0 \\frac{\\hbar\\Omega_1^2 g\\sigma\\sqrt{2\\pi}}{\\hbar^2\\Delta} = \\frac{\\pi}{4}\n",
    "\\end{align}\n",
    "を満たしている必要があるため，\n",
    "\\begin{align}\n",
    "\\theta_{ZI} &:= -V_0^2 \\frac{\\hbar\\Omega_1^2 \\cdot \\sigma\\sqrt{\\pi}}{2\\hbar^2 \\tilde{\\Delta}} = C\\cdot \\frac{\\pi^2}{16}\\\\\n",
    "C&:= - \\frac{\\hbar^2\\Delta^2}{\\hbar\\Omega_1^2 g^2 \\sigma 4\\sqrt{\\pi}\\tilde{\\Delta}}\n",
    "\\end{align}\n",
    "となります．ただし，$C$はパルスの形によらない定数です．<br>また，\n",
    "$CR_{-\\pi/4}$を実現するためには\n",
    "\\begin{align}\n",
    "\\theta_{ZX}:= V_0 \\frac{\\hbar\\Omega_1^2 g\\sigma\\sqrt{2\\pi}}{\\hbar^2\\Delta} = -\\frac{\\pi}{4}\n",
    "\\end{align}\n",
    "を満たしている必要があるため，\n",
    "\\begin{align}\n",
    "\\theta_{ZI} &:= -V_0^2 \\frac{\\hbar\\Omega_1^2 \\cdot \\sigma\\sqrt{\\pi}}{2\\hbar^2 \\tilde{\\Delta}} = C\\cdot \\frac{\\pi^2}{16}\n",
    "\\end{align}\n",
    "となり，$\\theta_{ZI}$の項は$CR_{\\pm\\pi/4}$でそれぞれ一致していることが分かります．よって，それぞれ作用させると\n",
    "\\begin{align}\n",
    "&\\underbrace{\\exp(-\\frac{i}{2}\\pi \\sigma_x\\sigma_I )}_{Xゲート}\\cdot \\underbrace{\\exp\\left( -\\frac{i}{2}C\\cdot \\frac{\\pi^2}{16} \\sigma_z\\sigma_I+\\frac{i}{2}\\frac{\\pi}{4}\\sigma_z\\sigma_x \\right)}_{CR_{-\\pi/4}ゲート} \\cdot \\underbrace{\\exp(-\\frac{i}{2}\\pi \\sigma_x\\sigma_I )}_{Xゲート}\\\\\n",
    "&\\quad \\cdot \\underbrace{\\exp\\left( -\\frac{i}{2}C\\cdot \\frac{\\pi^2}{16} \\sigma_z\\sigma_I-\\frac{i}{2}\\frac{\\pi}{4}\\sigma_z\\sigma_x \\right)}_{CR_{\\pi/4}ゲート}|\\psi_{\\text{rf}}(0)\\rangle\n",
    "\\end{align}"
   ]
  },
  {
   "cell_type": "markdown",
   "metadata": {},
   "source": [
    "となります．ここで，以下の公式を利用して計算していきます．\n",
    "\n",
    "```{admonition} 行列指数関数の性質3\n",
    "行列$A,B$があり，交換関係$[A,B]= AB-BA = 0$を満たしているとき\n",
    "\\begin{align}\n",
    "\\exp( A+B ) = \\exp(A)\\cdot \\exp(B) = \\exp(B)\\cdot \\exp(A)\n",
    "\\end{align}\n",
    "が成立する．\n",
    "```\n",
    "ここで，\n",
    "\\begin{align}\n",
    "[\\sigma_z\\otimes\\sigma_I,\\sigma_z\\otimes\\sigma_x]&= (\\sigma_z\\otimes\\sigma_I)(\\sigma_z\\otimes\\sigma_x)-(\\sigma_z\\otimes\\sigma_x)(\\sigma_z\\otimes\\sigma_I)\\\\\n",
    "&=(\\sigma_z\\cdot \\sigma_z)\\otimes (\\sigma_I\\cdot\\sigma_x)-(\\sigma_z\\cdot \\sigma_z)\\otimes (\\sigma_x\\cdot\\sigma_I)\\\\\n",
    "&=0\n",
    "\\end{align}\n",
    "となるため，行列指数関数の性質より\n",
    "\\begin{align}\n",
    "\\exp\\left( -\\frac{i}{2}C\\cdot \\frac{\\pi^2}{16} \\sigma_z\\sigma_I\\pm\\frac{i}{2}\\frac{\\pi}{4}\\sigma_z\\sigma_x \\right) &= \\exp\\left(-\\frac{i}{2}C\\cdot \\frac{\\pi^2}{16} \\sigma_z\\sigma_I\\right)\\cdot \\exp\\left(\\pm\\frac{i}{2}\\frac{\\pi}{4}\\sigma_z\\sigma_x \\right)\\\\\n",
    "&=\\exp\\left(\\pm\\frac{i}{2}\\frac{\\pi}{4}\\sigma_z\\sigma_x \\right)\\cdot\\exp\\left(-\\frac{i}{2}C\\cdot \\frac{\\pi^2}{16} \\sigma_z\\sigma_I\\right)\n",
    "\\end{align}\n",
    "となります．少々式が長くなりますが，各ゲートの行列は\n",
    "\\begin{align}\n",
    "&\\underbrace{\\exp(-\\frac{i}{2}\\pi \\sigma_x\\sigma_I )}_{Xゲート}\\cdot \\underbrace{\\exp\\left( -\\frac{i}{2}C\\cdot \\frac{\\pi^2}{16} \\sigma_z\\sigma_I+\\frac{i}{2}\\frac{\\pi}{4}\\sigma_z\\sigma_x \\right)}_{CR_{-\\pi/4}ゲート} \\cdot \\underbrace{\\exp(-\\frac{i}{2}\\pi \\sigma_x\\sigma_I )}_{Xゲート}\\\\\n",
    "&\\quad\\cdot \\underbrace{\\exp\\left( -\\frac{i}{2}C\\cdot \\frac{\\pi^2}{16} \\sigma_z\\sigma_I-\\frac{i}{2}\\frac{\\pi}{4}\\sigma_z\\sigma_x \\right)}_{CR_{\\pi/4}ゲート}\\\\\n",
    "&=\\underbrace{\\exp(-\\frac{i}{2}\\pi \\sigma_x\\sigma_I )}_{Xゲート}\\cdot \\underbrace{\\exp\\left(\\frac{i}{2}\\frac{\\pi}{4}\\sigma_z\\sigma_x \\right)\\cdot\\exp\\left(-\\frac{i}{2}C\\cdot \\frac{\\pi^2}{16} \\sigma_z\\sigma_I\\right) }_{CR_{-\\pi/4}ゲート} \\cdot \\underbrace{\\exp(-\\frac{i}{2}\\pi \\sigma_x\\sigma_I )}_{Xゲート}\\\\\n",
    "&\\quad\\cdot \\underbrace{\\exp\\left(-\\frac{i}{2}C\\cdot \\frac{\\pi^2}{16} \\sigma_z\\sigma_I\\right)\\cdot\\exp\\left(-\\frac{i}{2}\\frac{\\pi}{4}\\sigma_z\\sigma_x \\right)}_{CR_{\\pi/4}ゲート}\\\\\n",
    "\\end{align}\n",
    "となります．"
   ]
  },
  {
   "cell_type": "markdown",
   "metadata": {},
   "source": [
    "ここで，\n",
    "\\begin{align}\n",
    "\\exp\\left(-\\frac{i}{2}C\\cdot \\frac{\\pi^2}{16} \\sigma_z\\sigma_I\\right)\\cdot \\exp(-\\frac{i}{2}\\pi \\sigma_x\\sigma_I )\\cdot \\exp\\left(-\\frac{i}{2}C\\cdot \\frac{\\pi^2}{16} \\sigma_z\\sigma_I\\right) = \\exp(-\\frac{i}{2}\\pi \\sigma_x\\sigma_I )\n",
    "\\end{align}\n",
    "となり，\n",
    "\\begin{align}\n",
    "\\exp(-\\frac{i}{2}\\pi \\sigma_x\\sigma_I )\\exp\\left(\\frac{i}{2}\\frac{\\pi}{4}\\sigma_z\\sigma_x \\right)\\cdot\\exp(-\\frac{i}{2}\\pi \\sigma_x\\sigma_I )\\cdot\\exp\\left(-\\frac{i}{2}\\frac{\\pi}{4}\\sigma_z\\sigma_x \\right)= \\exp\\left(-\\frac{i}{2}\\frac{\\pi}{2}\\sigma_z\\sigma_x \\right)\n",
    "\\end{align}\n",
    "となります．なお，それぞれの導出は，第一章でも登場した以下の行列指数関数2の公式を利用すると簡単に導出できます．\n",
    "\n",
    "```{admonition} 行列指数関数の性質2\n",
    "パウリ行列$\\sigma_j,\\sigma_k$に対して\n",
    "\\begin{align}\n",
    "\\exp\\left( -\\frac{i}{2}\\theta \\sigma_j\\otimes\\sigma_k \\right) = \\cos( \\theta/2 )\\sigma_I\\otimes \\sigma_I - i \\sin(\\theta/2) \\sigma_j\\otimes\\sigma_k\n",
    "\\end{align}\n",
    "となります．なお，証明は以下の通りです：<br>\n",
    "指数関数を展開すると\n",
    "\\begin{align}\n",
    "&\\exp\\left( -\\frac{i}{2}\\theta \\sigma_j\\otimes\\sigma_k \\right)\\\\\n",
    "\\quad& = \\sigma_I \\otimes \\sigma_I -\\frac{i}{2}\\theta \\sigma_j\\otimes\\sigma_k + \\frac{1}{2}\\left( -\\frac{i}{2}\\theta  \\sigma_j\\otimes\\sigma_k \\right)^2 +\\frac{1}{6}\\left( -\\frac{i}{2}\\theta  \\sigma_j\\otimes\\sigma_k \\right)^3+ \\cdots\\\\\n",
    "\\quad& = \\sigma_I \\otimes \\sigma_I -\\frac{i}{2}\\theta \\sigma_j\\otimes\\sigma_k - \\frac{1}{2}\\left(  \\frac{\\theta}{2} \\right)^2 \\sigma_I \\otimes \\sigma_I +i\\frac{1}{6}\\left(  \\frac{\\theta}{2} \\right)^3\\sigma_j\\otimes\\sigma_k + \\cdots\\\\\n",
    "\\quad& = \\left\\{  1 - \\frac{1}{2}\\left(  \\frac{\\theta}{2} \\right)^2 + \\cdots  \\right\\}\\sigma_I\\otimes \\sigma_I -i \\left\\{ \\frac{\\theta}{2}- \\frac{1}{6}\\left(  \\frac{\\theta}{2} \\right)^3+ \\cdots \\right\\}\\sigma_j\\otimes\\sigma_k\\\\\n",
    "\\quad &= \\cos( \\theta/2 )\\sigma_I\\otimes \\sigma_I - i \\sin(\\theta/2) \\sigma_j\\otimes\\sigma_k\n",
    "\\end{align}\n",
    "となります．ただし，パウリ行列の二乗は単位行列$\\sigma_I$であるという性質より\n",
    "\\begin{align}\n",
    "\\left( \\sigma_j\\otimes\\sigma_k \\right)^2 &= \\left( \\sigma_j\\otimes\\sigma_k \\right)\\left( \\sigma_j\\otimes\\sigma_k \\right)\\\\\n",
    "&= \\left( \\sigma_j\\sigma_j \\right)\\otimes \\left( \\sigma_k\\sigma_k \\right)\\\\\n",
    "&= \\sigma_I\\otimes\\sigma_I\n",
    "\\end{align}\n",
    "となることを利用しています．\n",
    "```\n",
    "よってまとめると\n",
    "\\begin{align}\n",
    "&\\underbrace{\\exp(-\\frac{i}{2}\\pi \\sigma_x\\sigma_I )}_{Xゲート}\\cdot \\underbrace{\\exp\\left( -\\frac{i}{2}C\\cdot \\frac{\\pi^2}{16} \\sigma_z\\sigma_I+\\frac{i}{2}\\frac{\\pi}{4}\\sigma_z\\sigma_x \\right)}_{CR_{-\\pi/4}ゲート} \\cdot \\underbrace{\\exp(-\\frac{i}{2}\\pi \\sigma_x\\sigma_I )}_{Xゲート}\\\\\n",
    "&\\quad\\cdot \\underbrace{\\exp\\left( -\\frac{i}{2}C\\cdot \\frac{\\pi^2}{16} \\sigma_z\\sigma_I-\\frac{i}{2}\\frac{\\pi}{4}\\sigma_z\\sigma_x \\right)}_{CR_{\\pi/4}ゲート}\\\\\n",
    "&=\\underbrace{\\exp\\left(-\\frac{i}{2}\\frac{\\pi}{2}\\sigma_z\\sigma_x \\right)}_{理想的なCR_{\\pi/2}ゲート}\n",
    "\\end{align}\n",
    "となり，たしかに$\\sigma_z\\sigma_I$の項を削除できていることが分かります．**よってエコーによって理想的な$CR_{\\pi/2}$ゲートを実現できるのです**．"
   ]
  },
  {
   "cell_type": "markdown",
   "metadata": {},
   "source": [
    "## CNOTゲートのキャリブレーション"
   ]
  },
  {
   "cell_type": "markdown",
   "metadata": {},
   "source": [
    "\n",
    "これまではCRゲートの理論的な側面に関して学びました．ここから先は実際に$CR$ゲートを作成することによって，$CNOT$ゲートを作成していきます．<br>\n",
    "最初に説明をしたように，$CNOT$ゲートは以下の回路で実現されます．"
   ]
  },
  {
   "cell_type": "code",
   "execution_count": 5,
   "metadata": {
    "tags": [
     "hide-input"
    ]
   },
   "outputs": [
    {
     "data": {
      "image/png": "[encoded data removed]",
      "text/plain": [
       "<Figure size 1039.79x200.667 with 1 Axes>"
      ]
     },
     "execution_count": 5,
     "metadata": {},
     "output_type": "execute_result"
    }
   ],
   "source": [
    "qc = QuantumCircuit(2)\n",
    "qc.rz(-np.pi/2,0)\n",
    "qc.rz(-np.pi,1)\n",
    "qc.sx(1)\n",
    "qc.rz(-np.pi,1)\n",
    "\n",
    "qc.barrier()\n",
    "qc.rzx(np.pi/4,0,1)\n",
    "qc.sx(0)\n",
    "qc.sx(0)\n",
    "qc.rzx(-np.pi/4,0,1)\n",
    "qc.sx(0)\n",
    "qc.sx(0)\n",
    "qc.barrier()\n",
    "qc.draw(output='mpl')"
   ]
  },
  {
   "cell_type": "markdown",
   "metadata": {},
   "source": [
    "上記のように，エコーの部分とそうではない部分に分けることができ，$CR_{\\pm\\pi/4}$のみをキャリブレーションすると，説明したように$ZI$という不要な項が発生してしまいます．そこで，エコーの部分全体をキャリブレーションをして$CR_{\\pi/2}$を実現できるようなパルスの振幅を求めていきます．"
   ]
  },
  {
   "cell_type": "markdown",
   "metadata": {},
   "source": [
    "### エコーの部分のキャリブレーション\n",
    "よって，以下のエコーの部分のキャリブレーションを行います．"
   ]
  },
  {
   "cell_type": "code",
   "execution_count": 6,
   "metadata": {},
   "outputs": [
    {
     "data": {
      "image/png": "[encoded data removed]",
      "text/plain": [
       "<Figure size 788.961x200.667 with 1 Axes>"
      ]
     },
     "execution_count": 6,
     "metadata": {},
     "output_type": "execute_result"
    }
   ],
   "source": [
    "qc = QuantumCircuit(2)\n",
    "qc.barrier()\n",
    "qc.rzx(np.pi/4,0,1)\n",
    "qc.sx(0)\n",
    "qc.sx(0)\n",
    "qc.rzx(-np.pi/4,0,1)\n",
    "qc.sx(0)\n",
    "qc.sx(0)\n",
    "qc.barrier()\n",
    "qc.draw(output='mpl')"
   ]
  },
  {
   "cell_type": "markdown",
   "metadata": {},
   "source": [
    "$X_{\\pi/2}$ (以下の場合だと$\\sqrt{X}$)に関しては1量子ビットでキャリブレーションが完了しているためその結果を用いて，$CR_{\\pm\\theta}$として$\\theta$の値を変化させることで$CR_{\\pi/2}$を全体として実現できるような$\\theta \\propto  V_0 (振幅))$を求めていきます．<br>\n",
    "なお，先ほど説明したように$CR_{\\theta}$の実現方法は\n",
    "```{admonition} CRゲートの実現方法\n",
    "1つ目の量子ビット(制御量子ビット)に対して$\\omega_d = \\tilde{\\omega}_2$,$\\phi=0$となる次のパルスを打ちます．\n",
    "\\begin{align}\n",
    "V_1(t) =  A(t)\\sin(\\tilde{\\omega}_2 t)\n",
    "\\end{align}\n",
    "そして，キャリブレーションを行い，$CR_{\\theta}$が実現できるパルスの振幅を記録します．\n",
    "```\n",
    "です．\n",
    "```{admonition} 筆者が当初分からなかったこと\n",
    ":class: tip,dropdown\n",
    "制御量子ビットに対してパルスを当てているはずであるのに制御量子ビットは特に影響を受けるわけではなくコントロール量子ビットが$0,1$反転する場合があるのが不思議でたまりませんした．しかしこれは全く直感に反するような話ではなありません．制御量子ビットに制御量子ビットの周波数ではない周波数を当てても制御量子ビットは$0,1$を反転させることはありません．逆に制御量子ビットの周波数と同じ周波数のパルスを当てると1量子ビットで議論したのと同様に$0,1$を反転させる場合があります．このように特定の周波数のみに影響を受けやすいことを**共鳴**と言います．言い換えれば共鳴しない周波数を当てても何も影響を及ぼさないのです．\n",
    "```\n"
   ]
  },
  {
   "cell_type": "markdown",
   "metadata": {},
   "source": [
    "#### 周波数に関して\n",
    "まず考えなくてはいけないのは制御量子ビットに当てるパルスの周波数です．実装の理論では，制御量子ビットに$\\tilde{\\omega}$の周波数を当てましたが，$\\tilde{\\omega}$は\n",
    "\\begin{align}\n",
    "\\tilde{\\omega}_2 =  \\omega_2 + \\frac{g^2}{\\hbar^2\\Delta} \n",
    "\\end{align}\n",
    "であり，二つの量子ビットの接続係数である$g$という値が必要で$\\tilde{\\omega}$を見つけるのは簡単ではありません．そこで，そもそも量子ビットの周波数は$GHz$という高周波数であるため，**二つの量子ビットの周波数の差は十分に大きい**という近似をすることができます．つまり，$\\Delta$が十分に大きくなるため，\n",
    "\\begin{align}\n",
    "\\tilde{\\omega}_2 \\sim \\omega_2\n",
    "\\end{align}\n",
    "という荒い近似を行うことができるのです．また，この近似によって，制御量子ビットに$\\omega_2$の周波数のパルスを当てても，$\\omega_2$は制御量子ビットの周波数である$\\omega_1$とは十分に離れているため制御量子ビットはパルスによる影響で$|0\\rangle$から$|1\\rangle$に遷移してしまうなどの影響が少なくなります．"
   ]
  },
  {
   "cell_type": "markdown",
   "metadata": {},
   "source": [
    "#### バックエンドを定義する．\n",
    "1量子ビットの際と同様のバックエンドを使用します．"
   ]
  },
  {
   "cell_type": "code",
   "execution_count": 7,
   "metadata": {},
   "outputs": [],
   "source": [
    "# バックエンドのモデル\n",
    "ibm_backend = Fake7QPulseV1()\n",
    "\n",
    "# 使用するソルバー\n",
    "\n",
    "qubits_to_model = [0,1,2,3,4]\n",
    "solver_options = {\n",
    "    \"method\": \"jax_odeint\",\n",
    "    \"atol\": 1e-6,\n",
    "    \"rtol\": 1e-8,\n",
    "    \"hmax\": ibm_backend.configuration().dt}\n",
    "    \n",
    "# 数値計算を行うバックエンド\n",
    "backend = DynamicsBackend.from_backend(\n",
    "    backend=ibm_backend,\n",
    "    subsystem_list=qubits_to_model,\n",
    "    solver_options=solver_options,\n",
    "    )"
   ]
  },
  {
   "cell_type": "markdown",
   "metadata": {},
   "source": [
    "#### バックエンドからデフォルトの周波数を取り出す．\n",
    "パルスを送信するためには各量子ビットの周波数である$\\omega_1,\\omega_2$の値が必要でした．1番目に割り当てられている量子ビット(量子ビット0)と，2番目に割り当てられている量子ビット(量子ビット1)の周波数を取り出すと以下の通りになります．"
   ]
  },
  {
   "cell_type": "code",
   "execution_count": 8,
   "metadata": {},
   "outputs": [
    {
     "name": "stdout",
     "output_type": "stream",
     "text": [
      "量子ビット0は 5.260483791030155GHz の周波数です．\n",
      "量子ビット1は 5.170333454748703GHz の周波数です．\n"
     ]
    }
   ],
   "source": [
    "backend_defaults = ibm_backend.defaults()\n",
    "\n",
    "# 単位の定義\n",
    "GHz = 1.0e9\n",
    "MHz = 1.0e6\n",
    "us = 1.0e-6\n",
    "ns = 1.0e-9\n",
    "\n",
    "# 以下の量子ビットについて量子ビット周波数を探索する\n",
    "qubit1 = 0\n",
    "qubit2 = 1\n",
    "\n",
    "# 量子ビット0に関しての周波数を取り出す．\n",
    "center_frequency1_Hz = backend_defaults.qubit_freq_est[qubit1] \n",
    "center_frequency2_Hz = backend_defaults.qubit_freq_est[qubit2] \n",
    "print(f\"量子ビット{qubit1}は {center_frequency1_Hz / GHz}GHz の周波数です．\")\n",
    "print(f\"量子ビット{qubit2}は {center_frequency2_Hz / GHz}GHz の周波数です．\")"
   ]
  },
  {
   "cell_type": "markdown",
   "metadata": {},
   "source": [
    "#### パルスの形を決定する．\n",
    "必要となるパルスは次の三種類です．\n",
    "- 量子ビット0に打つ$X_{\\pi/2}$ゲートのパルス(1量子ビットのセクションにてキャリブレーションが完了している．)\n",
    "- 量子ビット0に打つ$CR_{\\pi/4}$ゲートのパルス\n",
    "- 量子ビット0に打つ$CR_{-\\pi/4}$ゲートのパルス\n",
    "\n",
    "それぞれのパルスでは$\\sigma,t_f,\\phi$の値は共通であり1量子ビットと同様にします："
   ]
  },
  {
   "cell_type": "code",
   "execution_count": 9,
   "metadata": {},
   "outputs": [],
   "source": [
    "sigma = 0.015 * us\n",
    "t_f = sigma * 8\n",
    "phi = 0"
   ]
  },
  {
   "cell_type": "markdown",
   "metadata": {},
   "source": [
    "$X_{\\pi/2}$ゲートの周波数は$\\omega_d = \\omega_1$で，振幅は1量子ビットでキャリブレーションから得られた値である(0.03075875030230344\n",
    ")を使用します："
   ]
  },
  {
   "cell_type": "code",
   "execution_count": 10,
   "metadata": {},
   "outputs": [],
   "source": [
    "x90_amp= 0.03075875030230344"
   ]
  },
  {
   "cell_type": "markdown",
   "metadata": {},
   "source": [
    "そして，$CR_{\\pm\\pi/4}$に関しては周波数は$\\omega_d = \\omega_2$で振幅は，$0~\\pm 2$の値で変化させて実験を行います．しかし，Qiskitの特性上振幅は$1$が限界であるため，それぞれ$0~\\pm 1$の値で変化させたパルスを二回作用させることで$0~\\pm 2$の値で変化させて実験できるようにします．"
   ]
  },
  {
   "cell_type": "code",
   "execution_count": 11,
   "metadata": {},
   "outputs": [],
   "source": [
    "V_0_min = 0\n",
    "V_0_max = 1.0\n",
    "num_cr_points = 200\n",
    "V_0 = np.linspace(V_0_min, V_0_max, num_cr_points)"
   ]
  },
  {
   "cell_type": "markdown",
   "metadata": {},
   "source": [
    "#### パルスを設定する．\n",
    "$X_{\\pi/2}$のパルスは以下の通りです．"
   ]
  },
  {
   "cell_type": "code",
   "execution_count": 12,
   "metadata": {},
   "outputs": [],
   "source": [
    "with pulse.build(backend=backend, default_alignment='sequential', name='x90') as x90_sched:\n",
    "    drive_duration = pulse.seconds_to_samples(t_f)\n",
    "    drive_sigma = pulse.seconds_to_samples(sigma)\n",
    "    drive_chan = pulse.drive_channel(qubit1)\n",
    "    pulse.set_frequency(center_frequency1_Hz, drive_chan)\n",
    "    pulse.play(pulse.Gaussian(duration=drive_duration,\n",
    "                              amp=x90_amp,\n",
    "                              sigma=drive_sigma,\n",
    "                              name='x90'), drive_chan)"
   ]
  },
  {
   "cell_type": "markdown",
   "metadata": {},
   "source": [
    "$CR_{\\pm\\pi/4}$に関しては次の通りです．それぞれのゲートの違いは，振幅の$\\pm$です．$CR_{\\pi/4}$は振幅が$+$，$CR_{-\\pi/4}$は振幅が$-$になります．"
   ]
  },
  {
   "cell_type": "code",
   "execution_count": 13,
   "metadata": {},
   "outputs": [],
   "source": [
    "# 振幅をパラメータとして登録する．\n",
    "drive_amp = Parameter('drive_amp')\n",
    "\n",
    "# CR_pi/4\n",
    "with pulse.build(backend=backend, default_alignment='sequential', name='Rzx Experiment plus') as rzx_sched_plus:\n",
    "    drive_duration = pulse.seconds_to_samples(t_f)\n",
    "    drive_sigma = pulse.seconds_to_samples(sigma)\n",
    "    drive_chan = pulse.drive_channel(qubit1)\n",
    "    pulse.set_frequency(center_frequency2_Hz, drive_chan)\n",
    "    pulse.play(pulse.Gaussian(duration=drive_duration,\n",
    "                              amp=drive_amp,\n",
    "                              # パルスの振幅がプラス\n",
    "                              sigma=drive_sigma,\n",
    "                              name='Rzx_pi/4'), drive_chan)\n",
    "\n",
    "# CR_-pi/4\n",
    "with pulse.build(backend=backend, default_alignment='sequential', name='Rzx Experiment minus') as rzx_sched_minus:\n",
    "    drive_duration = pulse.seconds_to_samples(t_f)\n",
    "    drive_sigma = pulse.seconds_to_samples(sigma)\n",
    "    drive_chan = pulse.drive_channel(qubit1)\n",
    "    pulse.set_frequency(center_frequency2_Hz, drive_chan)\n",
    "    pulse.play(pulse.Gaussian(duration=drive_duration,\n",
    "                              # パルス振幅がマイナス\n",
    "                              amp=-drive_amp,\n",
    "                              sigma=drive_sigma,\n",
    "                              name='Rzx_-pi/4'), drive_chan)"
   ]
  },
  {
   "cell_type": "markdown",
   "metadata": {},
   "source": [
    "#### 量子回路を作成する．\n",
    "今回のキャリブレーションでは，(1)初期状態を$|00\\rangle$として(2)量子ビット0に$CR_{\\pi/4}$のパルスを二回当てて(3)量子ビット0に$X_{\\pi/2}$のパルスを二回あてて，(4)量子ビット0に$CR_{-\\pi/4}$のパルスを二回当てて(5)量子ビット0に$X_{\\pi/2}$のパルスを二回あてて，(6)量子ビット0と量子ビット1を同時に測定します．"
   ]
  },
  {
   "cell_type": "code",
   "execution_count": 14,
   "metadata": {},
   "outputs": [],
   "source": [
    "# パルスに対応するカスタムゲートを作成する．\n",
    "rzx_gate_plus = Gate(\"rzx_plus\", 1, [drive_amp])\n",
    "rzx_gate_minus = Gate(\"rzx_minus\", 1, [drive_amp])\n",
    "x90 = Gate(\"x90\", 1, [])\n",
    "\n",
    "\n",
    "# 量子回路を作成 今回は2つの量子ビットが必要\n",
    "qc_rzx = QuantumCircuit(2)\n",
    "\n",
    "# 初期状態は|0>であるため(2)を行う\n",
    "qc_rzx.append(rzx_gate_plus, [0])\n",
    "qc_rzx.append(rzx_gate_plus, [0])\n",
    "# (3)\n",
    "qc_rzx.append(x90, [0])\n",
    "qc_rzx.append(x90, [0])\n",
    "# (4)\n",
    "qc_rzx.append(rzx_gate_minus, [0])\n",
    "qc_rzx.append(rzx_gate_minus, [0])\n",
    "# (5)\n",
    "qc_rzx.append(x90, [0])\n",
    "qc_rzx.append(x90, [0])\n",
    "# (6)\n",
    "qc_rzx.measure_all()\n",
    "\n",
    "#################################\n",
    "# バックエンドの設定\n",
    "qc_rzx.add_calibration(rzx_gate_plus, (0,), rzx_sched_plus, [drive_amp])\n",
    "qc_rzx.add_calibration(rzx_gate_minus, (0,), rzx_sched_minus, [drive_amp])\n",
    "exp_rzx_circs = [qc_rzx.assign_parameters({drive_amp: a}, inplace=False) for a in V_0]\n",
    "backend.target.add_instruction(\n",
    "    rzx_gate_plus,\n",
    "    {(0,): InstructionProperties(calibration=rzx_sched_plus)},\n",
    ")\n",
    "backend.target.add_instruction(\n",
    "    rzx_gate_minus,\n",
    "    {(0,): InstructionProperties(calibration=rzx_sched_minus)},\n",
    ")\n",
    "\n",
    "backend.target.add_instruction(\n",
    "    x90,\n",
    "    {(0,): InstructionProperties(calibration=x90_sched)},\n",
    ")"
   ]
  },
  {
   "cell_type": "markdown",
   "metadata": {},
   "source": [
    "量子回路は以下のようになります．"
   ]
  },
  {
   "cell_type": "code",
   "execution_count": 15,
   "metadata": {},
   "outputs": [
    {
     "data": {
      "image/png": "[encoded data removed]",
      "text/plain": [
       "<Figure size 1750.94x284.278 with 1 Axes>"
      ]
     },
     "execution_count": 15,
     "metadata": {},
     "output_type": "execute_result"
    }
   ],
   "source": [
    "qc_rzx.draw('mpl')"
   ]
  },
  {
   "cell_type": "markdown",
   "metadata": {},
   "source": [
    "パルスは以下のようになり，量子ビット0のみにパルスを当てていることが分かります．"
   ]
  },
  {
   "cell_type": "code",
   "execution_count": 16,
   "metadata": {},
   "outputs": [
    {
     "data": {
      "image/png": "[encoded data removed]",
      "text/plain": [
       "<Figure size 1300x300 with 1 Axes>"
      ]
     },
     "execution_count": 16,
     "metadata": {},
     "output_type": "execute_result"
    }
   ],
   "source": [
    "exp_rzx_schedule = schedule(exp_rzx_circs[-1], backend)\n",
    "exp_rzx_schedule.draw()"
   ]
  },
  {
   "cell_type": "markdown",
   "metadata": {},
   "source": [
    "#### シミュレーションを行う．\n",
    "各振幅で500回測定を行いその平均値を返すとします．(以下のコードのnum_shots_per_pointが各振幅での測定回数でmeas_return='avg’で平均値を返すようにしています．)"
   ]
  },
  {
   "cell_type": "code",
   "execution_count": 17,
   "metadata": {},
   "outputs": [
    {
     "name": "stdout",
     "output_type": "stream",
     "text": [
      "Job Status: job has successfully run\n"
     ]
    }
   ],
   "source": [
    "import warnings\n",
    "warnings.filterwarnings('ignore')\n",
    "\n",
    "num_shots_per_point = 500\n",
    "job = backend.run(exp_rzx_circs,\n",
    "            meas_level=2,\n",
    "            meas_return='avg',\n",
    "            shots=num_shots_per_point)\n",
    "job_monitor(job)"
   ]
  },
  {
   "cell_type": "markdown",
   "metadata": {},
   "source": [
    "#### 結果を表示してキャリブレーションを完了する．\n",
    "シミュレーションが終わったので結果を表示します．まずはそれぞれ$00,01,10,11$の得られた確率を表示します．"
   ]
  },
  {
   "cell_type": "code",
   "execution_count": 18,
   "metadata": {
    "tags": [
     "hide-input"
    ]
   },
   "outputs": [],
   "source": [
    "import plotly.graph_objects as go\n",
    "import plotly.io as pio\n",
    "import plotly\n",
    "from IPython.display import display, HTML\n",
    "\n",
    "\n",
    "result = job.result()\n",
    "list_00 = []\n",
    "list_01 = []\n",
    "list_10 = []\n",
    "list_11 = []\n",
    "\n",
    "for i in range(num_cr_points):\n",
    "    # Qiskit 上での01などの順序はこの教材とは逆順になっていることに注意する．\n",
    "    list_00.append(result.get_memory(i).count('00')/num_shots_per_point)\n",
    "    list_01.append(result.get_memory(i).count('10')/num_shots_per_point)\n",
    "    list_10.append(result.get_memory(i).count('01')/num_shots_per_point)\n",
    "    list_11.append(result.get_memory(i).count('11')/num_shots_per_point)\n",
    "\n",
    "layout = go.Layout(\n",
    "    font_size=15,  # グラフ全体のフォントサイズ\n",
    ")\n",
    "\n",
    "fig = go.Figure(layout=layout)\n",
    "plot =[\n",
    "    fig.add_trace(go.Scatter(x=2*V_0,\n",
    "                             y=list_00,\n",
    "                             mode='lines',\n",
    "                             name=r'$|00\\rangle$'\n",
    "                            )\n",
    "                  ),\n",
    "    fig.add_trace(go.Scatter(x=2*V_0,\n",
    "                             y=list_01,\n",
    "                             mode='lines',\n",
    "                             name=r'$|01\\rangle$',\n",
    "                            )\n",
    "                  ),\n",
    "    fig.add_trace(go.Scatter(x=2*V_0,\n",
    "                             y=list_10,\n",
    "                             mode='lines',\n",
    "                             name=r'$|10\\rangle$',\n",
    "                            )\n",
    "                  ),\n",
    "    fig.add_trace(go.Scatter(x=2*V_0,\n",
    "                             y=list_11,\n",
    "                             mode='lines',\n",
    "                             name=r'$|11\\rangle$',\n",
    "                            )\n",
    "                  )\n",
    "]\n",
    "\n",
    "fig.update_layout(\n",
    "    xaxis_title=r\"振幅$V_0$\",\n",
    "    yaxis_title=\"確率\",\n",
    "    font=dict(\n",
    "        family=\"Meiryo\",\n",
    "        size=15\n",
    "    )\n",
    ")\n",
    "fig.write_html(\"../../../animation/quantum_gate_2_plot1.html\",include_mathjax =\"https://cdnjs.cloudflare.com/ajax/libs/mathjax/2.7.1/MathJax.js\")"
   ]
  },
  {
   "cell_type": "markdown",
   "metadata": {},
   "source": [
    "<div style=\"position:relative;padding-bottom:60%;\">\n",
    "    <!-- 56.25 comes from aspect ratio of 16:9, change this accordingly -->\n",
    "    <iframe\n",
    "        style=\"width:100%;height:100%;position:absolute;left:0px;top:0px;\"\n",
    "        frameborder=\"0\"\n",
    "        width=\"100%\"\n",
    "        height=\"100%\"\n",
    "        allowfullscreen\n",
    "        allow=\"autoplay\"\n",
    "        src=\"../../../animation/quantum_gate_2_plot1.html\">\n",
    "    </iframe>\n",
    "</div>"
   ]
  },
  {
   "cell_type": "markdown",
   "metadata": {},
   "source": [
    "$CR_{\\theta}$ゲートは初期状態$|00\\rangle$に対して行列指数関数の性質2より\n",
    "\\begin{align}\n",
    "\\exp\\left( -\\frac{i}{2}\\theta\\sigma_z\\otimes\\sigma_x \\right)|00\\rangle &= \\left( \\cos(\\theta/2) \\sigma_I\\otimes\\sigma_I- i\\sin(\\theta/2)\\sigma_z\\otimes\\sigma_x  \\right)|00\\rangle\\\\\n",
    "&= \\cos(\\theta/2)|00\\rangle -i \\sin(\\theta/2)|01\\rangle\n",
    "\\end{align}\n",
    "となります．つまり理論的には$|10\\rangle,|11\\rangle$が出力結果で出てくるわけはなく，数値シミュレーションでもたしかに理論とつじつまが合うような結果が得られています．\n",
    "\n",
    "以上の結果を$|00\\rangle$の場合は$\\cos^2(\\theta/2)$，$|01\\rangle$の場合は$\\sin^2(\\theta/2)$にフィッティングさせたいのですが，以上の図を見て分かるように振動する範囲があまりに小さいため基本的に三角関数のフィッティングはうまく行きません．そこで直線で近似することにします．"
   ]
  },
  {
   "cell_type": "code",
   "execution_count": 19,
   "metadata": {
    "tags": [
     "hide-input"
    ]
   },
   "outputs": [],
   "source": [
    "from scipy import optimize\n",
    "\n",
    "def approximation_expression_00(x,a,b):\n",
    "    return a*x+b\n",
    "def approximation_expression_01(x,a,b):\n",
    "    return a*x+b\n",
    "\n",
    "popt_00, pcov_00 = optimize.curve_fit(approximation_expression_00, 2*V_0, list_00,p0=[0,0])\n",
    "popt_01, pcov_01 = optimize.curve_fit(approximation_expression_01, 2*V_0, list_01,p0=[0,1])\n",
    "\n",
    "fig = go.Figure(layout=layout)\n",
    "plot =[\n",
    "    fig.add_trace(go.Scatter(x=2*V_0,\n",
    "                             y=list_00,\n",
    "                             mode='lines',\n",
    "                             name=r'$|00\\rangle$'\n",
    "                            )\n",
    "                  ),\n",
    "    fig.add_trace(go.Scatter(x=2*V_0,\n",
    "                             y=list_01,\n",
    "                             mode='lines',\n",
    "                             name=r'$|01\\rangle$',\n",
    "                            )\n",
    "                  ),\n",
    "    fig.add_trace(go.Scatter(x=2*V_0,\n",
    "                             y=approximation_expression_00(2*V_0,popt_00[0],popt_00[1]),\n",
    "                             mode='lines',\n",
    "                             name=r'$\\text{Fitting:}|00\\rangle$',\n",
    "                            )\n",
    "                  ),\n",
    "    fig.add_trace(go.Scatter(x=2*V_0,\n",
    "                             y=approximation_expression_01(2*V_0,popt_01[0],popt_01[1]),\n",
    "                             mode='lines',\n",
    "                             name=r'$\\text{Fitting:}|01\\rangle$',\n",
    "                            )\n",
    "                  ),\n",
    "]\n",
    "\n",
    "fig.update_layout(\n",
    "    xaxis_title=r\"振幅$V_0$\",\n",
    "    yaxis_title=\"確率\",\n",
    "    font=dict(\n",
    "        family=\"Meiryo\",\n",
    "        size=15\n",
    "    )\n",
    ")\n",
    "fig.write_html(\"../../../animation/quantum_gate_2_plot2.html\",include_mathjax =\"https://cdnjs.cloudflare.com/ajax/libs/mathjax/2.7.1/MathJax.js\")"
   ]
  },
  {
   "cell_type": "markdown",
   "metadata": {},
   "source": [
    "<div style=\"position:relative;padding-bottom:60%;\">\n",
    "    <!-- 56.25 comes from aspect ratio of 16:9, change this accordingly -->\n",
    "    <iframe\n",
    "        style=\"width:100%;height:100%;position:absolute;left:0px;top:0px;\"\n",
    "        frameborder=\"0\"\n",
    "        width=\"100%\"\n",
    "        height=\"100%\"\n",
    "        allowfullscreen\n",
    "        allow=\"autoplay\"\n",
    "        src=\"../../../animation/quantum_gate_2_plot2.html\">\n",
    "    </iframe>\n",
    "</div>"
   ]
  },
  {
   "cell_type": "markdown",
   "metadata": {},
   "source": [
    "よってそれぞれの直線の交点がちょうど交わる点が$|00\\rangle,|01\\rangle$が半分の確率づつ得られている振幅であるため，\n",
    "\\begin{align}\n",
    "\\exp\\left( -\\frac{i}{2}\\frac{\\pi}{2}\\sigma_z\\otimes\\sigma_x \\right)|00\\rangle = \\frac{1}{\\sqrt{2}}|00\\rangle -i \\frac{1}{\\sqrt{2}}|01\\rangle\n",
    "\\end{align}\n",
    "から分かるように，ちょうど$CR_{\\pi/2}$が実現できている箇所です．よって，それぞれのフィッティングの直線の交点である"
   ]
  },
  {
   "cell_type": "code",
   "execution_count": 20,
   "metadata": {
    "tags": [
     "hide-input"
    ]
   },
   "outputs": [
    {
     "data": {
      "text/plain": [
       "1.3955064635598762"
      ]
     },
     "execution_count": 20,
     "metadata": {},
     "output_type": "execute_result"
    }
   ],
   "source": [
    "cr_x90_amp = -(popt_01[1]-popt_00[1])/(popt_01[0]-popt_00[0])\n",
    "cr_x90_amp "
   ]
  },
  {
   "cell_type": "markdown",
   "metadata": {},
   "source": [
    "がちょうど$CR_{\\pi/2}$を実現する振幅です．ただし今回はQiskitの制約である振幅は1以下を超えるためにあえて二回の$CR_{\\pi/2}$ゲートを作用させたため，$CR_{\\pi/2}$ゲート一個分の振幅は次の値になります．"
   ]
  },
  {
   "cell_type": "code",
   "execution_count": 21,
   "metadata": {
    "tags": [
     "hide-input"
    ]
   },
   "outputs": [
    {
     "data": {
      "text/plain": [
       "0.6977532317799381"
      ]
     },
     "execution_count": 21,
     "metadata": {},
     "output_type": "execute_result"
    }
   ],
   "source": [
    "cr_x90_amp = cr_x90_amp/2\n",
    "cr_x90_amp"
   ]
  },
  {
   "cell_type": "markdown",
   "metadata": {},
   "source": [
    "### キャリブレーションを下にCNOTゲートを作成する．\n",
    "ここから先はさきほどキャリブレーションを行った振幅を下に新しいCNOTゲートを作成します．エコーの部分のキャリブレーションが終わったため，エコー以外の部分を足し合わせるだけです．<br>\n",
    "まずはエコーの部分のパルスをさきほどの求めた振幅を使用して作成しましょう！\n",
    "#### パルスの作成\n",
    "$X_{\\pi}/2,CR_{\\pi/2}$を実現するパルスは以下の通りです．"
   ]
  },
  {
   "cell_type": "code",
   "execution_count": 22,
   "metadata": {},
   "outputs": [],
   "source": [
    "cr_x90_amp=0.6973115904518858"
   ]
  },
  {
   "cell_type": "code",
   "execution_count": 23,
   "metadata": {},
   "outputs": [],
   "source": [
    "# x90\n",
    "with pulse.build(backend=backend, default_alignment='sequential', name='x90') as x90_sched_0:\n",
    "    drive_duration = pulse.seconds_to_samples(t_f)\n",
    "    drive_sigma = pulse.seconds_to_samples(sigma)\n",
    "    drive_chan = pulse.drive_channel(qubit1)\n",
    "    pulse.set_frequency(center_frequency1_Hz, drive_chan)\n",
    "    pulse.play(pulse.Gaussian(duration=drive_duration,\n",
    "                              amp=x90_amp,\n",
    "                              sigma=drive_sigma,\n",
    "                              name='x90'), drive_chan)\n",
    "\n",
    "# CR_pi/4\n",
    "with pulse.build(backend=backend, default_alignment='sequential', name='cnot Experiment plus') as cnot_sched_plus:\n",
    "    drive_duration = pulse.seconds_to_samples(t_f)\n",
    "    drive_sigma = pulse.seconds_to_samples(sigma)\n",
    "    drive_chan = pulse.drive_channel(qubit1)\n",
    "    pulse.set_frequency(center_frequency2_Hz, drive_chan)\n",
    "    pulse.play(pulse.Gaussian(duration=drive_duration,\n",
    "                              # パルスの振幅がプラス\n",
    "                              amp=cr_x90_amp,\n",
    "                              sigma=drive_sigma,\n",
    "                              name='cnot_pi/4'), drive_chan)\n",
    "\n",
    "# CR_-pi/4\n",
    "with pulse.build(backend=backend, default_alignment='sequential', name='cnot Experiment minus') as cnot_sched_minus:\n",
    "    drive_duration = pulse.seconds_to_samples(t_f)\n",
    "    drive_sigma = pulse.seconds_to_samples(sigma)\n",
    "    drive_chan = pulse.drive_channel(qubit1)\n",
    "    pulse.set_frequency(center_frequency2_Hz, drive_chan)\n",
    "    pulse.play(pulse.Gaussian(duration=drive_duration,\n",
    "                              # パルス振幅がマイナス\n",
    "                              amp=-cr_x90_amp,\n",
    "                              sigma=drive_sigma,\n",
    "                              name='cnot_-pi/4'), drive_chan)"
   ]
  },
  {
   "cell_type": "markdown",
   "metadata": {},
   "source": [
    "そして，初期状態を$|10\\rangle$とします．理想的には\n",
    "\\begin{align}\n",
    "CNOT|10\\rangle = |11\\rangle\n",
    "\\end{align}\n",
    "となるはずです．量子回路をセットアップする工程に移りたいのですがQiskit上でパルスレベルで作成したゲートとパルスレベルで定義していないデフォルトのゲートのハイブリッドのシミュレーションを行うことはできません．(まだ確かめていませんが実機ではすべてのゲートがパルスに変換されるため可能だと思います．)　つまり，$Z_{\\theta}$ゲートや$S_X$ゲートなどをすべて定義する必要があります．<br>\n",
    "$Z_{\\theta}$ゲートに関しては位相$\\phi$をずらすことに相当したため以下で定められます．"
   ]
  },
  {
   "cell_type": "code",
   "execution_count": 24,
   "metadata": {},
   "outputs": [],
   "source": [
    "# RX\n",
    "phi = Parameter(\"phi\")\n",
    "with pulse.build() as rz0:\n",
    "    pulse.shift_phase(-phi, pulse.DriveChannel(0))\n",
    "\n",
    "with pulse.build() as rz1:\n",
    "    pulse.shift_phase(-phi, pulse.DriveChannel(1))"
   ]
  },
  {
   "cell_type": "markdown",
   "metadata": {},
   "source": [
    "そして，$S_X$ゲートに関しては量子ビット0は前のセクションでキャリブレーションを行いましたが量子ビット1はまだ行っていなかったため同様のキャリブレーションを行い，量子ビット1用のパルスを生成すると以下の通りになります．"
   ]
  },
  {
   "cell_type": "code",
   "execution_count": 25,
   "metadata": {
    "tags": [
     "hide-input"
    ]
   },
   "outputs": [
    {
     "name": "stdout",
     "output_type": "stream",
     "text": [
      "量子ビット1のSXゲートの振幅は0.02971316588429983です．\n"
     ]
    }
   ],
   "source": [
    "# 以下の量子ビットについて量子ビット周波数を探索する\n",
    "qubit2 = 1\n",
    "center_frequency2_Hz = backend_defaults.qubit_freq_est[qubit2] \n",
    "V_0_min = 0\n",
    "V_0_max = 0.3\n",
    "num_x90_points = 200\n",
    "\n",
    "V_0 = np.linspace(V_0_min, V_0_max, num_x90_points)\n",
    "\n",
    "sigma = 0.015 * us\n",
    "t_f = sigma * 8\n",
    "phi = 0\n",
    "drive_amp = Parameter('drive_amp')\n",
    "\n",
    "# パルスを設定する．\n",
    "with pulse.build(backend=backend, default_alignment='sequential', name='x90_calibration') as x90_calibration_sched:\n",
    "\n",
    "    drive_chan = pulse.drive_channel(qubit2)\n",
    "    # t_f\n",
    "    drive_duration = pulse.seconds_to_samples(t_f)\n",
    "    # sigma\n",
    "    drive_sigma = pulse.seconds_to_samples(sigma)\n",
    "    # 周波数\n",
    "    pulse.set_frequency(center_frequency2_Hz, drive_chan)\n",
    "    # 位相\n",
    "    pulse.set_phase(phi,drive_chan)\n",
    "\n",
    "    # パルスを打つ\n",
    "    pulse.play(pulse.Gaussian(duration=drive_duration,\n",
    "                              amp=drive_amp,\n",
    "                              sigma=drive_sigma,\n",
    "                              name='x90_calibration'), drive_chan)\n",
    "\n",
    "x90_calibration = Gate(\"x90_calibration\", 1, [drive_amp])\n",
    "qc_x90_calibration = QuantumCircuit(1)\n",
    "qc_x90_calibration.append(x90_calibration, [0])\n",
    "qc_x90_calibration.measure_all()\n",
    "\n",
    "######################################\n",
    "qc_x90_calibration.add_calibration(x90_calibration, (0,), x90_calibration_sched, [drive_amp])\n",
    "exp_x90_calibration_circs = [qc_x90_calibration.assign_parameters({drive_amp: a}, inplace=False) for a in V_0]\n",
    "backend.target.add_instruction(\n",
    "    x90_calibration,\n",
    "    {(0,): InstructionProperties(calibration=x90_calibration_sched)},\n",
    ")\n",
    "num_shots_per_point = 500\n",
    "job = backend.run(exp_x90_calibration_circs,\n",
    "            meas_level=2,\n",
    "            meas_return='avg',\n",
    "            shots=num_shots_per_point)\n",
    "\n",
    "result = job.result()\n",
    "zero_list = []\n",
    "one_list = []\n",
    "\n",
    "for i in range(200):\n",
    "    zero_list.append(result.get_memory(i).count('0')/500)\n",
    "    one_list.append(result.get_memory(i).count('1')/500)\n",
    "\n",
    "from scipy import optimize\n",
    "\n",
    "def approximation_expression(x,a,b):\n",
    "    return 0.5*np.sin(a*x+b)+0.5\n",
    "\n",
    "popt, pcov = optimize.curve_fit(approximation_expression, V_0, zero_list,p0=[60,0])\n",
    "\n",
    "x90_1_amp = np.pi/(2*popt[0])\n",
    "print(f\"量子ビット{qubit2}のSXゲートの振幅は{x90_1_amp}です．\")"
   ]
  },
  {
   "cell_type": "markdown",
   "metadata": {},
   "source": [
    "よってこの振幅を利用して量子ビット1用の$S_X$ゲートのパルスを作ると以下のようになります．．"
   ]
  },
  {
   "cell_type": "code",
   "execution_count": 26,
   "metadata": {},
   "outputs": [],
   "source": [
    "with pulse.build(backend=backend, default_alignment='sequential', name='x90_1') as x90_sched_1:\n",
    "    drive_duration = pulse.seconds_to_samples(t_f)\n",
    "    drive_sigma = pulse.seconds_to_samples(sigma)\n",
    "    drive_chan = pulse.drive_channel(qubit2)\n",
    "    pulse.set_frequency(center_frequency2_Hz, drive_chan)\n",
    "    pulse.play(pulse.Gaussian(duration=drive_duration,\n",
    "                              amp=x90_1_amp,\n",
    "                              sigma=drive_sigma,\n",
    "                              name='x90_1'), drive_chan)"
   ]
  },
  {
   "cell_type": "markdown",
   "metadata": {},
   "source": [
    "ようやく回路を構築する準備が整いました。細かいコードは以下の展開式の部分で見ていただき全体の回路は以下の通りです．"
   ]
  },
  {
   "cell_type": "code",
   "execution_count": 27,
   "metadata": {
    "tags": [
     "hide-input"
    ]
   },
   "outputs": [],
   "source": [
    "# バックエンドの定義\n",
    "ibm_backend = Fake7QPulseV1()\n",
    "\n",
    "# 使用するソルバー\n",
    "qubits_to_model = [0,1,2,3,4]\n",
    "solver_options = {\n",
    "    \"method\": \"jax_odeint\",\n",
    "    \"atol\": 1e-6,\n",
    "    \"rtol\": 1e-8,\n",
    "    \"hmax\": ibm_backend.configuration().dt}\n",
    "    \n",
    "# 数値計算を行うバックエンド\n",
    "backend = DynamicsBackend.from_backend(\n",
    "    backend=ibm_backend,\n",
    "    subsystem_list=qubits_to_model,\n",
    "    solver_options=solver_options,\n",
    "    )\n",
    "\n",
    "# パルスに対応するカスタムゲートを作成する．\n",
    "cnot_gate_plus = Gate(\"cnot_plus\", 1, [])\n",
    "cnot_gate_minus = Gate(\"cnot_minus\", 1, [])\n",
    "x90 = Gate(\"x90\", 1, [])\n",
    "\n",
    "# 量子回路を作成 今回は2つの量子ビットが必要\n",
    "qc_cnot = QuantumCircuit(2)\n",
    "\n",
    "# 初期状態を生成\n",
    "qc_cnot.sx(0)\n",
    "qc_cnot.sx(0)\n",
    "\n",
    "qc_cnot.barrier()\n",
    "\n",
    "###### 以下はエコー以外の部分\n",
    "# この部分をうまくできないかを考えてみる．\n",
    "qc_cnot.rz(-np.pi/2,0)\n",
    "qc_cnot.rz(-np.pi,1)\n",
    "qc_cnot.sx(1)\n",
    "qc_cnot.rz(-np.pi,1)\n",
    "\n",
    "qc_cnot.barrier()\n",
    "###### 以下はエコーの部分\n",
    "# 初期状態は|0>であるため(2)を行う\n",
    "qc_cnot.append(cnot_gate_plus, [0])\n",
    "qc_cnot.append(cnot_gate_plus, [0])\n",
    "# (3)\n",
    "qc_cnot.sx(0)\n",
    "qc_cnot.sx(0)\n",
    "# (4)\n",
    "qc_cnot.append(cnot_gate_minus, [0])\n",
    "qc_cnot.append(cnot_gate_minus, [0])\n",
    "# (5)\n",
    "qc_cnot.sx(0)\n",
    "qc_cnot.sx(0)\n",
    "# (6)\n",
    "qc_cnot.measure_all()\n",
    "\n",
    "######### それぞれのゲートをパルスと結びつける\n",
    "backend.target.add_instruction(\n",
    "    cnot_gate_plus,\n",
    "    {(0,): InstructionProperties(calibration=cnot_sched_plus)},\n",
    ")\n",
    "backend.target.add_instruction(\n",
    "    cnot_gate_minus,\n",
    "    {(0,): InstructionProperties(calibration=cnot_sched_minus)},\n",
    ")\n",
    "# SXゲートを新たに定義した．\n",
    "backend.target.add_instruction(\n",
    "    SXGate(),\n",
    "    {(0,): InstructionProperties(calibration=x90_sched),(1,):InstructionProperties(calibration=x90_sched_1)},\n",
    ")\n",
    "\n",
    "backend.target.add_instruction(\n",
    "    RZGate(phi),\n",
    "    {(0,): InstructionProperties(calibration=rz0), (1,): InstructionProperties(calibration=rz1)}\n",
    ")"
   ]
  },
  {
   "cell_type": "markdown",
   "metadata": {},
   "source": [
    "図示すると以下の通りです．"
   ]
  },
  {
   "cell_type": "code",
   "execution_count": 28,
   "metadata": {},
   "outputs": [
    {
     "data": {
      "image/png": "[encoded data removed]",
      "text/plain": [
       "<Figure size 2001.78x284.278 with 1 Axes>"
      ]
     },
     "execution_count": 28,
     "metadata": {},
     "output_type": "execute_result"
    }
   ],
   "source": [
    "qc_cnot.draw('mpl')"
   ]
  },
  {
   "cell_type": "markdown",
   "metadata": {},
   "source": [
    "そしてシミュレーションを実行し結果を表示します．"
   ]
  },
  {
   "cell_type": "code",
   "execution_count": 29,
   "metadata": {
    "tags": [
     "hide-input"
    ]
   },
   "outputs": [
    {
     "data": {
      "text/plain": [
       "{'00': 2, '01': 57, '10': 1, '11': 440}"
      ]
     },
     "execution_count": 29,
     "metadata": {},
     "output_type": "execute_result"
    }
   ],
   "source": [
    "import warnings\n",
    "warnings.filterwarnings('ignore')\n",
    "\n",
    "num_shots_per_point = 500\n",
    "job = backend.run(qc_cnot,\n",
    "            meas_level=2,\n",
    "            meas_return='avg',\n",
    "            shots=num_shots_per_point)\n",
    "job = job.result()\n",
    "job.get_counts(0)"
   ]
  },
  {
   "cell_type": "markdown",
   "metadata": {},
   "source": [
    "以上の結果のようにたしかに$|11\\rangle$が高確率で得られることが分かりました！！！！！以上より数値シミュレーションによってCNOTゲートを自作することができました！"
   ]
  }
 ],
 "metadata": {
  "kernelspec": {
   "display_name": ".venv",
   "language": "python",
   "name": "python3"
  },
  "language_info": {
   "codemirror_mode": {
    "name": "ipython",
    "version": 3
   },
   "file_extension": ".py",
   "mimetype": "text/x-python",
   "name": "python",
   "nbconvert_exporter": "python",
   "pygments_lexer": "ipython3",
   "version": "3.10.8"
  }
 },
 "nbformat": 4,
 "nbformat_minor": 2
}
